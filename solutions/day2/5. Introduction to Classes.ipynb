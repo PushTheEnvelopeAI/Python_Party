{
 "cells": [
  {
   "cell_type": "markdown",
   "id": "a38ce6ad",
   "metadata": {},
   "source": [
    "# 1. Classes"
   ]
  },
  {
   "cell_type": "markdown",
   "id": "9853a423",
   "metadata": {},
   "source": [
    "### Defining Classes\n",
    "Classes are an object type used to store variables and functions together. A class can be used as a template to store information for multiple items\n",
    "\n",
    "##### Examples:\n",
    "`\n",
    "class Student():\n",
    "    firstName = \"Tom\"\n",
    "    lastName = \"White\"\n",
    "    year = \"Freshman\"\n",
    "`"
   ]
  },
  {
   "cell_type": "code",
   "execution_count": 9,
   "id": "9db4ba69",
   "metadata": {},
   "outputs": [
    {
     "name": "stdout",
     "output_type": "stream",
     "text": [
      "Tom\n",
      "White\n",
      "Freshman\n",
      "Tom\n"
     ]
    }
   ],
   "source": [
    "class Student():\n",
    "    firstName = \"Tom\"\n",
    "    lastName = \"White\"\n",
    "    year = \"Freshman\"\n",
    "    \n",
    "    \n",
    "me = Student()\n",
    "print(me.firstName)\n",
    "print(me.lastName)\n",
    "print(me.year)\n",
    "\n",
    "you = Student()\n",
    "print(me.firstName)"
   ]
  },
  {
   "cell_type": "markdown",
   "id": "885604b4",
   "metadata": {},
   "source": [
    "### init Function\n",
    "The init function is used to set initialize a class with user inputted values for variables\n",
    "\n",
    "##### Examples:\n",
    "`\n",
    "class Student():\n",
    "    school = \"UND\"\n",
    "    def __init__(self, firstName, lastName, year):\n",
    "        self.firstName = firstName\n",
    "        self.lastName = lastName\n",
    "        self.year = year\n",
    "`"
   ]
  },
  {
   "cell_type": "code",
   "execution_count": 10,
   "id": "778709a3",
   "metadata": {},
   "outputs": [
    {
     "name": "stdout",
     "output_type": "stream",
     "text": [
      "Adam Bordeau Sophmore UND\n",
      "Tom White Freshman UND\n"
     ]
    }
   ],
   "source": [
    "class Student():\n",
    "    school = \"UND\"\n",
    "    def __init__(self, firstName, lastName, year):\n",
    "        self.firstName = firstName\n",
    "        self.lastName = lastName\n",
    "        self.year = year\n",
    "        \n",
    "        \n",
    "me = Student(\"Adam\", \"Bordeau\", \"Sophmore\")\n",
    "you = Student(\"Tom\", \"White\", \"Freshman\")\n",
    "\n",
    "print(me.firstName, me.lastName, me.year, me.school)\n",
    "print(you.firstName, you.lastName, you.year, you.school)"
   ]
  },
  {
   "cell_type": "markdown",
   "id": "d319a820",
   "metadata": {},
   "source": [
    "### Changing Values in Classes\n",
    "Values can be changed in a declared class by reassigning the classes variable\n",
    "\n",
    "##### Examples:\n",
    "`\n",
    "class Student():\n",
    "    school = \"UND\"\n",
    "    def __init__(self, firstName, lastName, year):\n",
    "        self.firstName = firstName\n",
    "        self.lastName = lastName\n",
    "        self.year = year\n",
    "me.year = \"Senior\"\n",
    "`"
   ]
  },
  {
   "cell_type": "code",
   "execution_count": 11,
   "id": "687714ca",
   "metadata": {},
   "outputs": [
    {
     "name": "stdout",
     "output_type": "stream",
     "text": [
      "Adam Bordeau Sophmore UND\n",
      "Adam Bordeau Senior UND\n"
     ]
    }
   ],
   "source": [
    "class Student():\n",
    "    school = \"UND\"\n",
    "    def __init__(self, firstName, lastName, year):\n",
    "        self.firstName = firstName\n",
    "        self.lastName = lastName\n",
    "        self.year = year\n",
    "        \n",
    "me = Student(\"Adam\", \"Bordeau\", \"Sophmore\")\n",
    "print(me.firstName, me.lastName, me.year, me.school)\n",
    "\n",
    "me.year = \"Senior\"\n",
    "print(me.firstName, me.lastName, me.year, me.school)"
   ]
  },
  {
   "cell_type": "markdown",
   "id": "67fe4de7",
   "metadata": {},
   "source": [
    "### Defining Functions in Classes\n",
    "Values can be changed in a declared class by reassigning the classes variable\n",
    "\n",
    "##### Examples:\n",
    "`\n",
    "class Student():\n",
    "    def __init__(self, firstName, lastName):\n",
    "        self.firstName = firstName\n",
    "        self.lastName = lastName\n",
    "    def printName(self):\n",
    "        print(self.firstName + \" \" + self.lastName)\n",
    "`"
   ]
  },
  {
   "cell_type": "code",
   "execution_count": 15,
   "id": "511c89f7",
   "metadata": {},
   "outputs": [
    {
     "name": "stdout",
     "output_type": "stream",
     "text": [
      "Adam Bordeau\n"
     ]
    }
   ],
   "source": [
    "class Student():\n",
    "    def __init__(self, firstName, lastName):\n",
    "        self.firstName = firstName\n",
    "        self.lastName = lastName\n",
    "    def printName(self):\n",
    "        print(self.firstName + \" \" + self.lastName)\n",
    "        \n",
    "me = Student(\"Adam\", \"Bordeau\")\n",
    "me.printName()"
   ]
  },
  {
   "cell_type": "markdown",
   "id": "c1cf8c18",
   "metadata": {},
   "source": [
    "### Initializing with Functions\n",
    "Functions can be used in the init function to initialize variables\n",
    "\n",
    "##### Examples:\n",
    "`\n",
    "class Student():\n",
    "    def __init__(self, firstName, lastName):\n",
    "        self.firstName = firstName\n",
    "        self.lastName = lastName\n",
    "        self.fullName = self.combineName()\n",
    "    def combineName(self):\n",
    "        return self.firstName + \" \" + self.lastName\n",
    "`"
   ]
  },
  {
   "cell_type": "code",
   "execution_count": 16,
   "id": "9ee1f784",
   "metadata": {},
   "outputs": [
    {
     "name": "stdout",
     "output_type": "stream",
     "text": [
      "Adam Bordeau\n"
     ]
    }
   ],
   "source": [
    "class Student():\n",
    "    def __init__(self, firstName, lastName):\n",
    "        self.firstName = firstName\n",
    "        self.lastName = lastName\n",
    "        self.fullName = self.combineName()\n",
    "    def combineName(self):\n",
    "        return self.firstName + \" \" + self.lastName\n",
    "        \n",
    "me = Student(\"Adam\", \"Bordeau\")\n",
    "print(me.fullName)"
   ]
  },
  {
   "cell_type": "markdown",
   "id": "0430ef00",
   "metadata": {},
   "source": [
    "# 2. Putting it Together"
   ]
  },
  {
   "cell_type": "markdown",
   "id": "dac1365d",
   "metadata": {},
   "source": [
    "### EXERCISE: Airmen Records\n",
    "Create a class to hold airmen records including:\n",
    "- ###### Variables:\n",
    "    <br>\n",
    "    1. first name => input to __init__\n",
    "    <br>\n",
    "    2. last name => input to __init__\n",
    "    <br>\n",
    "    3. rank => input to __init__\n",
    "    <br>\n",
    "    4. spouse name => default to empty string\n",
    "    <br>\n",
    "    5. DoDID Number => run GenID function (see below)\n",
    "    <br>\n",
    "    6. FullName => run CombineName function (see below)\n",
    "    <br>\n",
    "    <br>\n",
    "- ###### Functions:\n",
    "    <br>\n",
    "    1. CombineName => accepts first and last, returns combined name as \"first last\"\n",
    "    <br>\n",
    "    2. UpdateSpouse => accepts first and last name. Assigned spouse name to \"first last\" using CombineName function\n",
    "    <br>\n",
    "    3. GenID => use random.randint() to return a 5 digit-random ID number\n",
    "    <br>\n",
    "    4. PrintInfo => prints all user information to the screen"
   ]
  },
  {
   "cell_type": "code",
   "execution_count": 27,
   "id": "5c03a17b",
   "metadata": {},
   "outputs": [
    {
     "name": "stdout",
     "output_type": "stream",
     "text": [
      "Name: Tom White\n",
      "Rank: MSgt\n",
      "DoDID: 42852\n",
      "Spouse: \n",
      "\n",
      "\n",
      "Name: Tom White\n",
      "Rank: MSgt\n",
      "DoDID: 42852\n",
      "Spouse: Betty White\n"
     ]
    }
   ],
   "source": [
    "import random\n",
    "\n",
    "class Airman():\n",
    "    spouseName = \"\"\n",
    "    \n",
    "    def __init__(self, firstName, lastName, rank):\n",
    "        self.firstName = firstName\n",
    "        self.lastName = lastName\n",
    "        self.rank = rank\n",
    "        self.ID = self.GenID()\n",
    "        self.fullName = self.CombineName(self.firstName, self.lastName)\n",
    "        \n",
    "    def CombineName(self, first, last):\n",
    "        return first + \" \" + last\n",
    "    \n",
    "    def UpdateSpouse(self, first, last):\n",
    "        self.spouseName = self.CombineName(first, last)\n",
    "        \n",
    "    def GenID(self):\n",
    "        ID = \"\"\n",
    "        for x in range(5):\n",
    "            ID += str(random.randint(0,9))\n",
    "        \n",
    "        return ID\n",
    "    \n",
    "    def PrintInfo(self):\n",
    "        print(\"Name:\", self.fullName)\n",
    "        print(\"Rank:\", self.rank)\n",
    "        print(\"DoDID:\", self.ID)\n",
    "        print(\"Spouse:\", self.spouseName)\n",
    "        \n",
    "\n",
    "person = Airman(\"Tom\", \"White\", \"MSgt\")\n",
    "person.PrintInfo()\n",
    "print('\\n')\n",
    "\n",
    "person.UpdateSpouse(\"Betty\", \"White\")\n",
    "person.PrintInfo()"
   ]
  }
 ],
 "metadata": {
  "kernelspec": {
   "display_name": "Python 3 (ipykernel)",
   "language": "python",
   "name": "python3"
  },
  "language_info": {
   "codemirror_mode": {
    "name": "ipython",
    "version": 3
   },
   "file_extension": ".py",
   "mimetype": "text/x-python",
   "name": "python",
   "nbconvert_exporter": "python",
   "pygments_lexer": "ipython3",
   "version": "3.9.12"
  }
 },
 "nbformat": 4,
 "nbformat_minor": 5
}
