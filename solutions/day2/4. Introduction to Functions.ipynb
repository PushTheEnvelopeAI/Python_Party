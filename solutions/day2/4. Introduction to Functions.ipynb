{
 "cells": [
  {
   "cell_type": "markdown",
   "id": "230a36e6",
   "metadata": {},
   "source": [
    "# 1. Functions"
   ]
  },
  {
   "cell_type": "markdown",
   "id": "47435351",
   "metadata": {},
   "source": [
    "### Defining Function\n",
    "Functions are used to house repeatable code that you can call anywhere in your code\n",
    "\n",
    "##### Example:\n",
    "`\n",
    "def myFunction():\n",
    "    print(\"Hello World\")\n",
    "`\n",
    "<br>\n",
    "<br>\n",
    "<br>\n",
    "`\n",
    "def myFunction2():\n",
    "    print(20 * 30)\n",
    "`"
   ]
  },
  {
   "cell_type": "code",
   "execution_count": 1,
   "id": "63e6685f",
   "metadata": {},
   "outputs": [
    {
     "name": "stdout",
     "output_type": "stream",
     "text": [
      "Hello World\n",
      "600\n"
     ]
    }
   ],
   "source": [
    "def myFunction():\n",
    "    print(\"Hello World\")\n",
    "\n",
    "\n",
    "def myFunction2():\n",
    "    print(20 * 30)\n",
    "    \n",
    "myFunction()\n",
    "myFunction2()"
   ]
  },
  {
   "cell_type": "markdown",
   "id": "5db28bd3",
   "metadata": {},
   "source": [
    "### Input Variables\n",
    "Input variables allow you to pass values into the function and be used to help execute the function's logic\n",
    "\n",
    "##### Example:\n",
    "`\n",
    "def printGreeting(name):\n",
    "    print(\"Hello,\", name)\n",
    "`\n",
    "<br>\n",
    "<br>\n",
    "<br>\n",
    "`\n",
    "def findSum(x1, x2):\n",
    "    print(x1 * x2)\n",
    "`"
   ]
  },
  {
   "cell_type": "code",
   "execution_count": 12,
   "id": "0498a597",
   "metadata": {},
   "outputs": [
    {
     "name": "stdout",
     "output_type": "stream",
     "text": [
      "Hello, Adam\n",
      "50\n",
      "50\n"
     ]
    }
   ],
   "source": [
    "def printGreeting(name):\n",
    "    print(\"Hello,\", name)\n",
    "\n",
    "\n",
    "def findSum(x1, x2):\n",
    "    print(x1 + x2)\n",
    "    \n",
    "    \n",
    "printGreeting(\"Adam\")\n",
    "findSum(20, 30)\n",
    "findSum(10, 40)"
   ]
  },
  {
   "cell_type": "markdown",
   "id": "f92b9af7",
   "metadata": {},
   "source": [
    "### Output Variables\n",
    "Output variables allow you to return a value back to the main code \n",
    "\n",
    "##### Example:\n",
    "`\n",
    "def GetGreeting(name):\n",
    "    return \"Your Name is \" + name\n",
    "`\n",
    "<br>\n",
    "<br>\n",
    "<br>\n",
    "`\n",
    "def FindProduct(x1, x2):\n",
    "    result = x1 * x2\n",
    "    return result\n",
    "`"
   ]
  },
  {
   "cell_type": "code",
   "execution_count": 23,
   "id": "dd9f1255",
   "metadata": {},
   "outputs": [
    {
     "name": "stdout",
     "output_type": "stream",
     "text": [
      "Your Name is Adam\n",
      "20 30 600\n",
      "(10, 40, 400)\n"
     ]
    }
   ],
   "source": [
    "def GetGreeting(name):\n",
    "    return \"Your Name is \" + name\n",
    "\n",
    "\n",
    "def FindProduct(x1, x2):\n",
    "    result = x1 * x2\n",
    "    return x1, x2, result\n",
    "\n",
    "\n",
    "greeting = GetGreeting(\"Adam\")\n",
    "print(greeting)\n",
    "\n",
    "num1, num2, result = FindProduct(20, 30)\n",
    "print(num1, num2, result)\n",
    "\n",
    "result = FindProduct(10, 40)\n",
    "print(result)"
   ]
  },
  {
   "cell_type": "markdown",
   "id": "993319c9",
   "metadata": {},
   "source": [
    "### Multiple-Output Conditions\n",
    "Using IF statements within a function allow for multiple possible return values\n",
    "\n",
    "##### Example:\n",
    "`\n",
    "def GetGreeting(name, timeOfDay):\n",
    "    if timeOfDay == \"Morning\":\n",
    "        return \"Good Morning, \" + name\n",
    "    else:\n",
    "        return \"Good Afternoon, \" + name\n",
    "`\n",
    "<br>\n",
    "<br>\n",
    "<br>\n",
    "`\n",
    "def FindMax(x1, x2):\n",
    "    if x1 > x2:\n",
    "        return x1\n",
    "    else:\n",
    "        return x2\n",
    "`"
   ]
  },
  {
   "cell_type": "code",
   "execution_count": 21,
   "id": "3e720a15",
   "metadata": {},
   "outputs": [
    {
     "name": "stdout",
     "output_type": "stream",
     "text": [
      "Good Morning, Adam\n",
      "30\n"
     ]
    }
   ],
   "source": [
    "def GetGreeting(name, timeOfDay):\n",
    "    if timeOfDay == \"Morning\":\n",
    "        return \"Good Morning, \" + name\n",
    "    else:\n",
    "        return \"Good Afternoon, \" + name\n",
    "\n",
    "\n",
    "def FindMax(x1, x2):\n",
    "    if x1 > x2:\n",
    "        return x1\n",
    "    else:\n",
    "        return x2\n",
    "    \n",
    "    \n",
    "greeting = GetGreeting(\"Adam\", \"Morning\")\n",
    "print(greeting)\n",
    "\n",
    "maxVal = FindMax(20, 30)\n",
    "print(maxVal)"
   ]
  },
  {
   "cell_type": "markdown",
   "id": "9dac7276",
   "metadata": {},
   "source": [
    "### Calling Function within Functions\n",
    "Functions can be called within other functions to increase the complexity of logic in the main function\n",
    "\n",
    "##### Examples:\n",
    "`\n",
    "def GetTimeOfDay(time):\n",
    "    if time < 1200:\n",
    "        return \"Morning\"\n",
    "    else:\n",
    "        return \"Afternoon\"\n",
    "`\n",
    "<br>\n",
    "<br>\n",
    "<br>\n",
    "`\n",
    "def PrintGreeting(name, time):\n",
    "    timeOfDay = GetTimeOfDay(time)\n",
    "    greeting = \"Good \" + timeOfDay + \", \" + name\n",
    "    return greeting\n",
    "`"
   ]
  },
  {
   "cell_type": "code",
   "execution_count": 20,
   "id": "42d8d21b",
   "metadata": {},
   "outputs": [
    {
     "name": "stdout",
     "output_type": "stream",
     "text": [
      "Good Morning, Adam\n"
     ]
    }
   ],
   "source": [
    "def GetTimeOfDay(time):\n",
    "    if time < 12:\n",
    "        return \"Morning\"\n",
    "    else:\n",
    "        return \"Afternoon\"\n",
    "\n",
    "\n",
    "def GetGreeting(name, time):\n",
    "    timeOfDay = GetTimeOfDay(time)\n",
    "    greeting = \"Good \" + timeOfDay + \", \" + name\n",
    "    return greeting\n",
    "\n",
    "\n",
    "greeting = GetGreeting(\"Adam\", 8)\n",
    "print(greeting)"
   ]
  },
  {
   "cell_type": "markdown",
   "id": "b45dc819",
   "metadata": {},
   "source": [
    "# 2. Putting it all Together"
   ]
  },
  {
   "cell_type": "markdown",
   "id": "abdfad3a",
   "metadata": {},
   "source": [
    "## REPORTING FOR DUTY\n",
    "### Return a statement that a given airmen is reporting for duty\n",
    "- #### **Input**: name (last, first, rank)\n",
    "- #### **Output**: name (rank first last)\n",
    "    - #### Step 1: reorder name \n",
    "    - #### Step 2: print statement \"{name} reporting for duty!\""
   ]
  },
  {
   "cell_type": "code",
   "execution_count": 133,
   "id": "d3fe7344",
   "metadata": {},
   "outputs": [
    {
     "name": "stdout",
     "output_type": "stream",
     "text": [
      "Captain Adam Bordeau reporting for duty\n"
     ]
    }
   ],
   "source": [
    "def ReportingForDuty(last, first, rank):\n",
    "    print(rank, first, last, \"reporting for duty!\")\n",
    "    \n",
    "ReportingForDuty(\"Bordeau\", \"Adam\", \"Captain\")"
   ]
  },
  {
   "cell_type": "markdown",
   "id": "229fdd49",
   "metadata": {},
   "source": [
    "## CAN I VOTE?\n",
    "### Determine whether a given person meets the age requirement (18+) to vote\n",
    "- #### **Input**: Age\n",
    "- #### **Output**: True (*can vote*) or False (*cant vote*)"
   ]
  },
  {
   "cell_type": "code",
   "execution_count": 63,
   "id": "052b6f3d",
   "metadata": {},
   "outputs": [
    {
     "name": "stdout",
     "output_type": "stream",
     "text": [
      "False\n"
     ]
    }
   ],
   "source": [
    "def CanIVote(age):\n",
    "    if age >= 18:\n",
    "        return True\n",
    "    else:\n",
    "        return False\n",
    "\n",
    "\n",
    "canVote = CanIVote(13)\n",
    "print(canVote)"
   ]
  },
  {
   "cell_type": "markdown",
   "id": "1767b1a3",
   "metadata": {},
   "source": [
    "## AGREE OR DISAGREE?\n",
    "### Determine whether two people agree or disagree with a statement \n",
    "- #### **Input**: two strings\n",
    "- #### **Output**: \"You Agree!\" (*match*) or \"You Disagree!\" (*not match*)"
   ]
  },
  {
   "cell_type": "code",
   "execution_count": 64,
   "id": "24d746c0",
   "metadata": {},
   "outputs": [
    {
     "name": "stdout",
     "output_type": "stream",
     "text": [
      "You Agree!\n"
     ]
    }
   ],
   "source": [
    "def AgreeOrDisagree(string1, string2):\n",
    "    if string1 == string2:\n",
    "        print('You Agree!')\n",
    "    else:\n",
    "        print('You Disagree!')\n",
    "\n",
    "\n",
    "AgreeOrDisagree('red', 'red')"
   ]
  },
  {
   "cell_type": "markdown",
   "id": "9a9c16bf",
   "metadata": {},
   "source": [
    "## TIP CALCULATOR\n",
    "### Calculate the tip for a given bill based on the level of service\n",
    "- #### **Input**: \n",
    "    - #### bill amount\n",
    "    - #### service level\n",
    "- #### **Output**: \n",
    "    - #### Step 1: determine tip percent from level of service\n",
    "    - #### Step 2: return bill amount * tip percent\n",
    "        - #### \"Bad\": 10%\n",
    "        - #### \"Okay\": 15%\n",
    "        - #### \"Good\": 18%\n",
    "        - #### \"Great\": 22%"
   ]
  },
  {
   "cell_type": "code",
   "execution_count": 134,
   "id": "04828df4",
   "metadata": {},
   "outputs": [
    {
     "name": "stdout",
     "output_type": "stream",
     "text": [
      "90.783\n"
     ]
    }
   ],
   "source": [
    "def WhatIsMyTip(bill, serviceLevel):\n",
    "    if serviceLevel == \"Bad\":\n",
    "        return bill * .1\n",
    "    elif serviceLevel == \"Okay\":\n",
    "        return bill *.15\n",
    "    elif serviceLevel == \"Good\":\n",
    "        return bill *.18\n",
    "    elif serviceLevel == \"Great\":\n",
    "        return bill *.22\n",
    "    else:\n",
    "        return bill * .18\n",
    "    \n",
    "\n",
    "print(WhatIsMyTip(412.65, \"Great\"))"
   ]
  },
  {
   "cell_type": "markdown",
   "id": "e41c75d7",
   "metadata": {},
   "source": [
    "## LIFE PHASES\n",
    "### Determine what phase in life a person is given their age\n",
    "- #### **Input**: age\n",
    "- #### **Output**: \n",
    "    - #### 0-3: \"Baby\"\n",
    "    - #### 4-12: \"Child\"\n",
    "    - #### 13-19: \"Teen\"\n",
    "    - #### 20-64: \"Adult\"\n",
    "    - #### 65-130: \"Senior Citizen\"\n",
    "    - #### <0 or >130: \"Invalid Age Entered\""
   ]
  },
  {
   "cell_type": "code",
   "execution_count": 65,
   "id": "327da199",
   "metadata": {},
   "outputs": [
    {
     "name": "stdout",
     "output_type": "stream",
     "text": [
      "child\n"
     ]
    }
   ],
   "source": [
    "def LifePhase(age):\n",
    "    phase = 'unknown'\n",
    "    \n",
    "    if age >= 0 and age <= 3:\n",
    "        phase = 'baby'\n",
    "    elif age >= 4 and age <= 12:\n",
    "        phase = 'child'\n",
    "    elif age >= 13 and age <= 19:\n",
    "        phase = 'teen'\n",
    "    elif age >= 20 and age <= 64:\n",
    "        phase = 'adult'\n",
    "    elif age >= 64 and age <= 130:\n",
    "        phase = 'Senior Citizen'\n",
    "    elif age < 0 or age > 130:\n",
    "        phase = 'Invalid Age Entered'\n",
    "        \n",
    "    return phase\n",
    "\n",
    "phase = LifePhase(10)\n",
    "print(phase)"
   ]
  },
  {
   "cell_type": "markdown",
   "id": "ecfe7fbd",
   "metadata": {},
   "source": [
    "## FINAL GRADE\n",
    "### Determine what letter grade a student recieves given 3 grades\n",
    "- #### **Input**: 3 grades\n",
    "- #### **Output**: \n",
    "    - #### Step 1: Find the average grade\n",
    "    - #### Step 2: Convert to letter grade\n",
    "        - #### 0-59: \"F\"\n",
    "        - #### 60-69: \"D\"\n",
    "        - #### 70-79: \"C\"\n",
    "        - #### 80-89: \"B\"\n",
    "        - #### 90-100: \"A\"\n",
    "- #### **Other**: any grade <0 or >100  ==>  \"You Entered an Invalid Grade\""
   ]
  },
  {
   "cell_type": "code",
   "execution_count": 66,
   "id": "d9cff170",
   "metadata": {},
   "outputs": [
    {
     "name": "stdout",
     "output_type": "stream",
     "text": [
      "You entered an invalid grade\n"
     ]
    }
   ],
   "source": [
    "def GetAverage(grade1, grade2, grade3):\n",
    "    average = (grade1 + grade2 + grade3)/3\n",
    "    return average\n",
    "    \n",
    "def GetGrade(grade1, num2, score3):\n",
    "    if grade1 <0 or grade1>100:\n",
    "        print('You entered an invalid grade')\n",
    "    else:\n",
    "        average = GetAverage(grade1, num2, score3)\n",
    "\n",
    "        letter = 'IDK'\n",
    "\n",
    "        if average >= 0 and average <= 59:\n",
    "            letter = 'F'\n",
    "        elif average >= 60 and average <= 69:\n",
    "            letter = 'D'\n",
    "        elif average >= 70 and average <= 79:\n",
    "            letter = 'C'\n",
    "        elif average >= 80 and average <= 89:\n",
    "            letter = 'B'\n",
    "        elif average >= 90 and average <= 100:\n",
    "            letter = 'A'\n",
    "        else:\n",
    "            letter = 'Error'\n",
    "\n",
    "        print(average, letter)\n",
    "\n",
    "GetGrade(-99, 10, 84)"
   ]
  },
  {
   "cell_type": "markdown",
   "id": "c61742e0",
   "metadata": {},
   "source": [
    "## DICE ROLL\n",
    "### Random generate two dice rolls and return the sum\n",
    "- #### **Input**: None\n",
    "- #### **Output**: \n",
    "    - #### Step 1: Roll two 6-sided die (random number generator)\n",
    "    - #### Step 2: Return the sum"
   ]
  },
  {
   "cell_type": "code",
   "execution_count": 67,
   "id": "da346f09",
   "metadata": {},
   "outputs": [
    {
     "name": "stdout",
     "output_type": "stream",
     "text": [
      "2\n"
     ]
    }
   ],
   "source": [
    "import random\n",
    "\n",
    "def RollDice():\n",
    "    die1 = random.randint(1,6)\n",
    "    die2 = random.randint(1,6)\n",
    "    \n",
    "    return die1 + die2\n",
    "\n",
    "\n",
    "print(RollDice())"
   ]
  },
  {
   "cell_type": "markdown",
   "id": "8be1fb50",
   "metadata": {},
   "source": [
    "## MAGIC 8 BALL\n",
    "### Return a \"Magic 8-ball\" answer for a given question\n",
    "- #### **Input**: Question (string)\n",
    "- #### **Output**: \n",
    "    - #### Step 1: print question\n",
    "    - #### Step 2: randomly return 1 of 8 answers (random number generator)\n",
    "        - #### 0: \"It is certain\"\n",
    "        - #### 1: \"It is decidedly so\"\n",
    "        - #### 2: \"Cannot predict now\"\n",
    "        - #### 3: \"Do not count on it\"\n",
    "        - #### 4: \"My sources say no\"\n",
    "        - #### 5: \"Outlook not so good\"\n",
    "        - #### 6: \"Reply hazy. Try again\"\n",
    "        - #### 7: \"Signs point to yes\""
   ]
  },
  {
   "cell_type": "code",
   "execution_count": 128,
   "id": "dc9ec55d",
   "metadata": {},
   "outputs": [
    {
     "name": "stdout",
     "output_type": "stream",
     "text": [
      "Outlook not so good\n"
     ]
    }
   ],
   "source": [
    "import random\n",
    "\n",
    "def AskQuestion(question):\n",
    "    num = random.randint(0,7)\n",
    "    \n",
    "    if num == 0:\n",
    "        print(\"It is certain\")\n",
    "    elif num == 1:\n",
    "        print(\"It is decidedly so\")\n",
    "    elif num == 2:\n",
    "        print(\"Cannot predict now\")\n",
    "    elif num == 3:\n",
    "        print(\"Do not count on it\")\n",
    "    elif num == 4:\n",
    "        print(\"My sources say no\")\n",
    "    elif num == 5:\n",
    "        print(\"Outlook not so good\")\n",
    "    elif num == 6:\n",
    "        print(\"Reply hazy. Try again\")\n",
    "    elif num == 7:\n",
    "        print(\"Signs point to yes\")\n",
    "        \n",
    "    \n",
    "AskQuestion(\"Am I learning anything?\")"
   ]
  },
  {
   "cell_type": "markdown",
   "id": "fe846f97",
   "metadata": {},
   "source": [
    "## INTERPLANETARY WEIGHT\n",
    "### Return a persons weight on a given planet\n",
    "- #### **Input**: \n",
    "    - #### earth weight\n",
    "    - #### planet name\n",
    "- #### **Output**: \n",
    "    - #### Step 1: print earth weight\n",
    "    - #### Step 2: return earth weight * planet factor\n",
    "        - #### \"Mercury\": 0.378\n",
    "        - #### \"Venus\": 0.907\n",
    "        - #### \"Mars\": 0.377\n",
    "        - #### \"Jupiter\": 2.36\n",
    "        - #### \"Saturn\": 0.916\n",
    "- #### **Other**: Return \"Invalid planet\" if planet not listed"
   ]
  },
  {
   "cell_type": "code",
   "execution_count": 129,
   "id": "69d0451b",
   "metadata": {},
   "outputs": [
    {
     "name": "stdout",
     "output_type": "stream",
     "text": [
      "424.79999999999995\n"
     ]
    }
   ],
   "source": [
    "def TestGravity(weight, planet):\n",
    "    if planet == \"Mercury\":\n",
    "        return weight * 0.378\n",
    "    elif planet == \"Venus\":\n",
    "        return weight * 0.907\n",
    "    elif planet ==  \"Mars\":\n",
    "        return weight * 0.377\n",
    "    elif planet == \"Jupiter\":\n",
    "        return weight * 2.36\n",
    "    elif planet == \"Saturn\":\n",
    "        return weight * 0.916\n",
    "    else:\n",
    "        return \"INVALID PLANET\"\n",
    "    \n",
    "print(TestGravity(180, \"Jupiter\"))"
   ]
  }
 ],
 "metadata": {
  "kernelspec": {
   "display_name": "Python 3 (ipykernel)",
   "language": "python",
   "name": "python3"
  },
  "language_info": {
   "codemirror_mode": {
    "name": "ipython",
    "version": 3
   },
   "file_extension": ".py",
   "mimetype": "text/x-python",
   "name": "python",
   "nbconvert_exporter": "python",
   "pygments_lexer": "ipython3",
   "version": "3.9.12"
  }
 },
 "nbformat": 4,
 "nbformat_minor": 5
}
