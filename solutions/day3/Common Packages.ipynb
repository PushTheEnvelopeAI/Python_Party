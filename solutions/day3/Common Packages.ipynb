{
 "cells": [
  {
   "cell_type": "markdown",
   "id": "67b0142d",
   "metadata": {},
   "source": [
    "# Common Packages"
   ]
  },
  {
   "cell_type": "code",
   "execution_count": null,
   "id": "c97521ae",
   "metadata": {},
   "outputs": [],
   "source": [
    "import math      # more complex math operations (sqrt, sin, etc)\n",
    "import random    # random number generators \n",
    "import os        # file management\n",
    "import re        # regular expressions for complex text editing/searching\n",
    "import time      # get system times, dates, make new datetime variables\n",
    "import urllib3   # parse website urls to get website content\n",
    "import requests  # parse website urls to get website content\n",
    "import pytest    # test functions to help write better code and test for weaknesses"
   ]
  },
  {
   "cell_type": "markdown",
   "id": "b5efbb50",
   "metadata": {},
   "source": [
    "# Data Processing"
   ]
  },
  {
   "cell_type": "code",
   "execution_count": null,
   "id": "bbbe0d6e",
   "metadata": {},
   "outputs": [],
   "source": [
    "import pandas   # big data processing. Best with excel and csv files \n",
    "import numpy    # big data manipulation and complex array funtions"
   ]
  },
  {
   "cell_type": "markdown",
   "id": "4a5e0179",
   "metadata": {},
   "source": [
    "# Visualization"
   ]
  },
  {
   "cell_type": "code",
   "execution_count": null,
   "id": "80539c2d",
   "metadata": {},
   "outputs": [],
   "source": [
    "import matplotlib.pyplot  # simple graph visualizations\n",
    "import plotly   # interactive web plots \n",
    "import seaborn  # slightly more complex graphs\n",
    "import pillow   # image processing\n",
    "import opencv   # image processing "
   ]
  },
  {
   "cell_type": "markdown",
   "id": "8ddb7cfd",
   "metadata": {},
   "source": [
    "# Machine Learning"
   ]
  },
  {
   "cell_type": "code",
   "execution_count": null,
   "id": "698198cc",
   "metadata": {},
   "outputs": [],
   "source": [
    "import sklearn     # simple machine learning models\n",
    "import pytorch     # user friendly machine learning including neural networks\n",
    "import tensorflow  # complex machine learning\n",
    "import keras       # slightly more user friendly version of tensorflow"
   ]
  }
 ],
 "metadata": {
  "kernelspec": {
   "display_name": "Python 3 (ipykernel)",
   "language": "python",
   "name": "python3"
  },
  "language_info": {
   "codemirror_mode": {
    "name": "ipython",
    "version": 3
   },
   "file_extension": ".py",
   "mimetype": "text/x-python",
   "name": "python",
   "nbconvert_exporter": "python",
   "pygments_lexer": "ipython3",
   "version": "3.9.12"
  }
 },
 "nbformat": 4,
 "nbformat_minor": 5
}
