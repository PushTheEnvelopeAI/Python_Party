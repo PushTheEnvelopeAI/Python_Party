{
 "cells": [
  {
   "cell_type": "markdown",
   "id": "2d21f4c2",
   "metadata": {},
   "source": [
    "# 1. Read the Stock Data\n",
    "\n",
    "### Step 1: Create a function called ReadStockData()\n",
    "This function will read the text file of stock data and return the values as lists\n",
    "\n",
    "    - Input: file name => \"files/stock_data.txt\"\n",
    "    - output: lists of price data\n",
    "    \n",
    "### Step 2: Within the function:\n",
    "\n",
    "    - Read all lines of the file using .readlines()\n",
    "    - Be sure to skip the first line as it contains the headers\n",
    "    - Using a for loop:\n",
    "        - remove special characters\n",
    "        - split the values using split\n",
    "        - convert number values to floats\n",
    "        - save each value to its respective list\n",
    "    - return the lists to main\n",
    "    \n",
    "### Step 3: Call the function\n",
    "    - dates, opens, closes = ReadStockData(\"files/stock_data.txt\")\n",
    "    \n",
    "### Step 4: Check output\n",
    "    - print(dates[0:3]) => ['2019-08-12', '2019-08-13', '2019-08-14']\n",
    "    - print(opens[0:3]) => [46.597999572753906, 45.762001037597656, 46.242000579833984]\n",
    "    - print(closes[0:3]) => [45.801998138427734, 47.0, 43.92399978637695]"
   ]
  },
  {
   "cell_type": "code",
   "execution_count": 13,
   "id": "5f9bf2bc",
   "metadata": {},
   "outputs": [
    {
     "name": "stdout",
     "output_type": "stream",
     "text": [
      "['2019-08-12', '2019-08-13', '2019-08-14']\n",
      "[46.597999572753906, 45.762001037597656, 46.242000579833984]\n",
      "[45.801998138427734, 47.0, 43.92399978637695]\n"
     ]
    }
   ],
   "source": [
    "def ReadStockData(filename):\n",
    "    dates = []\n",
    "    opens = []\n",
    "    closes = []\n",
    "    \n",
    "    with open(filename) as f:\n",
    "        for line in f.readlines()[1:]:\n",
    "            line = line.replace('\\n', \"\")\n",
    "            date, openPrice, closePrice = line.split(\",\")\n",
    "            openPrice = float(openPrice)\n",
    "            closePrice = float(closePrice)\n",
    "            \n",
    "            dates.append(date)\n",
    "            opens.append(openPrice)\n",
    "            closes.append(closePrice)\n",
    "    \n",
    "    return dates, opens, closes\n",
    "\n",
    "dates, opens, closes = ReadStockData(\"files/stock_data.txt\")\n",
    "\n",
    "print(dates[0:3])\n",
    "print(opens[0:3])\n",
    "print(closes[0:3])"
   ]
  },
  {
   "cell_type": "markdown",
   "id": "8d23f4b8",
   "metadata": {},
   "source": [
    "# 2. Read the Number of Shares\n",
    "\n",
    "### Step 1: Create a Function Called ReadShareData()\n",
    "This function will read in the number of shares the person owns on every day the stock was trading\n",
    "\n",
    "    - Input: file name => \"files/my_shares.txt\"\n",
    "    - Output: list of shares\n",
    "    \n",
    "### Step 2: Within the function:\n",
    "    - Read all lines of the file using .readlines()\n",
    "    - Using a for loop:\n",
    "        - remove special characters\n",
    "        - split the values using split\n",
    "        - convert number of shares to integer\n",
    "        - save only the share values in a list\n",
    "    - return the list to main\n",
    "    \n",
    "### Step 3: Call the function\n",
    "    - shares = ReadShareData(\"files/my_shares.txt\")\n",
    "    \n",
    "### Step 4: Check output\n",
    "    - print(shares[0:3]) => [18, 6, 8]"
   ]
  },
  {
   "cell_type": "code",
   "execution_count": 14,
   "id": "33284cb9",
   "metadata": {},
   "outputs": [
    {
     "name": "stdout",
     "output_type": "stream",
     "text": [
      "[18, 6, 8]\n"
     ]
    }
   ],
   "source": [
    "def ReadShareData(filename):\n",
    "    shares = []\n",
    "    \n",
    "    with open(filename) as f:\n",
    "        for line in f.readlines()[1:]:\n",
    "            line = line.replace('\\n', \"\")\n",
    "            date, share = line.split(\",\")\n",
    "            share = int(share)\n",
    "            \n",
    "            shares.append(share)\n",
    "    \n",
    "    return shares\n",
    "\n",
    "shares = ReadShareData(\"files/my_shares.txt\")\n",
    "print(shares[0:3])"
   ]
  },
  {
   "cell_type": "markdown",
   "id": "0bfc9980",
   "metadata": {},
   "source": [
    "# 3. Calculate the Change in Price\n",
    "\n",
    "### Step 1: Create a Function Called CalcPriceChanges()\n",
    "This function will calculate the change in price between the opening and closing prices for each day\n",
    "\n",
    "    - Input: two lists (opening values and closing values)\n",
    "    - Output: list of price changes\n",
    "    \n",
    "### Step 2: Within the function:\n",
    "    - Using a for loop:\n",
    "        - subtract the closing values from the opening values\n",
    "        - save the results in a new list\n",
    "    - return the list to main\n",
    "    \n",
    "### Step 3: Call the function:\n",
    "    - changes = CalcPriceChanges(opens, closes)\n",
    "    \n",
    "### Step 4: Check output\n",
    "    - print(changes[0:3]) => [-0.7960014343261719, 1.2379989624023438, -2.3180007934570312]"
   ]
  },
  {
   "cell_type": "code",
   "execution_count": 15,
   "id": "b83bb3a9",
   "metadata": {},
   "outputs": [
    {
     "name": "stdout",
     "output_type": "stream",
     "text": [
      "[-0.7960014343261719, 1.2379989624023438, -2.3180007934570312]\n"
     ]
    }
   ],
   "source": [
    "def CalcPriceChanges(opens, closes):\n",
    "    changes = []\n",
    "    \n",
    "    for x in range(len(opens)):\n",
    "        changes.append(closes[x] - opens[x])\n",
    "    \n",
    "    return changes\n",
    "\n",
    "changes = CalcPriceChanges(opens, closes)\n",
    "print(changes[0:3])"
   ]
  },
  {
   "cell_type": "markdown",
   "id": "885594ff",
   "metadata": {},
   "source": [
    "# 4. Calculate the Account Price Changes\n",
    "\n",
    "### Step 1: Create a Function Called CalcAccountChanges()\n",
    "This function will calculate the change in price based on the number of shares the person had\n",
    "\n",
    "    - Input: two lists (changes list and shares list)\n",
    "    - Output: list of price changes\n",
    "    \n",
    "### Step 2: Within the function:\n",
    "    - Using a for loop:\n",
    "        - multiply the number of shares by the change in price\n",
    "        - save the results in a new list\n",
    "    - return the list to main\n",
    "    \n",
    "### Step 3: Call the function\n",
    "    - diffs = CalcAccountChanges(changes, shares)\n",
    "    \n",
    "### Step 4: Check output\n",
    "    - print(diffs[0:3]) => [-14.328025817871094, 7.4279937744140625, -18.54400634765625]"
   ]
  },
  {
   "cell_type": "code",
   "execution_count": 16,
   "id": "bdfcf0a1",
   "metadata": {},
   "outputs": [
    {
     "name": "stdout",
     "output_type": "stream",
     "text": [
      "[-14.328025817871094, 7.4279937744140625, -18.54400634765625]\n"
     ]
    }
   ],
   "source": [
    "def CalcAccountChanges(changes, shares):\n",
    "    diffs = []\n",
    "    \n",
    "    for x in range(len(changes)):\n",
    "        diffs.append(changes[x] * shares[x])\n",
    "        \n",
    "    return diffs\n",
    "\n",
    "diffs = CalcAccountChanges(changes, shares)\n",
    "print(diffs[0:3])"
   ]
  },
  {
   "cell_type": "markdown",
   "id": "816ae682",
   "metadata": {},
   "source": [
    "# 5. Write the Account Price Changes to File\n",
    "\n",
    "### Step 1: Create a Function Called WriteAccountChanges()\n",
    "This function will write the account changes for each day to a new file\n",
    "\n",
    "    - Input: diffs list and file name => \"files/my_account.txt\")\n",
    "    - Output: None\n",
    "    \n",
    "### Step 2: Within the function:\n",
    "    - Using a for loop:\n",
    "        - write each values in the diffs list to a new file\n",
    "    \n",
    "### Step 3: Call the function:\n",
    "    - WriteAccountChanges(\"files/my_account.txt\", diffs)\n",
    "    \n",
    "### Step 4: Check the output file\n",
    "    - first three lines:\n",
    "        o -14.328025817871094\n",
    "        o 7.4279937744140625\n",
    "        o -18.54400634765625"
   ]
  },
  {
   "cell_type": "code",
   "execution_count": 12,
   "id": "ac0280cb",
   "metadata": {},
   "outputs": [],
   "source": [
    "def WriteAccountChanges(filename, diffs):\n",
    "    with open(filename, \"w\") as w:\n",
    "        for diff in diffs:\n",
    "            w.write(str(diff) + \"\\n\")\n",
    "            \n",
    "WriteAccountChanges(\"files/my_account.txt\", diffs)"
   ]
  },
  {
   "cell_type": "markdown",
   "id": "7b10be41",
   "metadata": {},
   "source": [
    "# 6. Calculate the Account Total\n",
    "\n",
    "### Step 1: Create a Function Called CalcAccountTotal()\n",
    "This function will sum up the entire account based on the stock changes\n",
    "\n",
    "    - Input: starting amount (float) and diffs (list)\n",
    "    - Output: account total (float)\n",
    "    \n",
    "### Step 2: Within the function:\n",
    "    - initialize the running sum to the starting amount\n",
    "    - Using a while loop:\n",
    "        - add each value in diffs to the running sum\n",
    "    - return the running sum to main\n",
    "    \n",
    "### Step 3: Call the function:\n",
    "    - account = CalcAccountTotal(10000, diffs)\n",
    "    \n",
    "### Step 4: Check output\n",
    "    o 5627.500946044922"
   ]
  },
  {
   "cell_type": "code",
   "execution_count": 23,
   "id": "69513510",
   "metadata": {},
   "outputs": [
    {
     "name": "stdout",
     "output_type": "stream",
     "text": [
      "5627.500946044922\n"
     ]
    }
   ],
   "source": [
    "def CalcAccountTotal(starting, diffs):\n",
    "    account = starting\n",
    "    \n",
    "    i = 0\n",
    "    while i<len(diffs):\n",
    "        account += diffs[i]\n",
    "        i += 1\n",
    "        \n",
    "    return account\n",
    "\n",
    "account = CalcAccountTotal(10000, diffs)\n",
    "print(account)"
   ]
  },
  {
   "cell_type": "markdown",
   "id": "10b4c70c",
   "metadata": {},
   "source": [
    "# 7. Get User Information\n",
    "\n",
    "### Step 1: Create a Function Called GetUserInfo()\n",
    "This function will ask the user for information to be added to their account\n",
    "\n",
    "    - Input: None\n",
    "    - Output: first name, last name, birthday\n",
    "    \n",
    "### Step 2: Within the function:\n",
    "    - Ask the user to input their first name\n",
    "    - Ask the user to input their last name\n",
    "    - Ask the user to input their birthday in the format yyyy-mm-dd\n",
    "    - return the first name, last name and birthday to main\n",
    "    \n",
    "### Step 3: Call the function:\n",
    "    - first, last, birthday = GetUserInfo()\n",
    "    \n",
    "### Step 4: Check output"
   ]
  },
  {
   "cell_type": "code",
   "execution_count": 1,
   "id": "44a062f4",
   "metadata": {},
   "outputs": [
    {
     "name": "stdout",
     "output_type": "stream",
     "text": [
      "What is your first name?: Adam\n",
      "What is your last name?: Bordeau\n",
      "When is your birthday (yyyy-mm-dd)?: 1992-03-04\n",
      "Adam Bordeau 1992-03-04\n"
     ]
    }
   ],
   "source": [
    "def GetUserInfo():\n",
    "    first = input(\"What is your first name?: \")\n",
    "    last = input(\"What is your last name?: \")\n",
    "    birthday = input(\"When is your birthday (yyyy-mm-dd)?: \")\n",
    "    return first, last, birthday\n",
    "\n",
    "first, last, birthday = GetUserInfo()\n",
    "print(first, last, birthday)"
   ]
  },
  {
   "cell_type": "markdown",
   "id": "64566be6",
   "metadata": {},
   "source": [
    "# 7. Create an Account\n",
    "\n",
    "### Step 1: Create a Class Called Account\n",
    "This class will store the users account information\n",
    "    \n",
    "### Step 2: Define Variables:\n",
    "    - balance = 10000\n",
    "    \n",
    "### Step 3: Define __init__:\n",
    "    - inputs: first name, last name, birthday\n",
    "    - assign the first name, last name and birthday variables \n",
    "    - assign an account number variable using the function GenAccount()\n",
    "    \n",
    "### Step 4: Define Functions:\n",
    "    - GenAccount()\n",
    "        - inputs: none\n",
    "        - outputs: 10 digit random number\n",
    "        - description: use a for loop to generate a 10 digit random number \n",
    "    - UpdateBalance()\n",
    "        - inputs: new balance (float)\n",
    "        - outputs: none\n",
    "        - description: update the balance variable with the newly inputted balance\n",
    "    - PrintAccountInfo()\n",
    "        - inputs: None\n",
    "        - output: None\n",
    "        - Description: print out the person's first name, last name, account number and balance \n",
    "    \n",
    "### Step 5: Initialize the Class\n",
    "    - user = Account(first, last, birthday)  <=  Using outputs of task 7\n",
    "    - user.UpdateBalance(account)  <=  using output of task 6\n",
    "    - user.PrintAccountInfo()"
   ]
  },
  {
   "cell_type": "code",
   "execution_count": 28,
   "id": "be34237a",
   "metadata": {},
   "outputs": [
    {
     "name": "stdout",
     "output_type": "stream",
     "text": [
      "Name: Adam Bordeau\n",
      "Account Number: 3551100040\n",
      "Balance: 5627.500946044922\n"
     ]
    }
   ],
   "source": [
    "import random\n",
    "\n",
    "class Account():\n",
    "    balance = 0\n",
    "    \n",
    "    def __init__(self, first, last, birthday):\n",
    "        self.first = first\n",
    "        self.last = last\n",
    "        self.birthday = birthday\n",
    "        self.accountNum = self.GenAccount()\n",
    "        \n",
    "    def GenAccount(self):\n",
    "        num = \"\"\n",
    "        \n",
    "        for x in range(10):\n",
    "            num += str(random.randint(0,9))\n",
    "        \n",
    "        return num\n",
    "    \n",
    "    def UpdateBalance(self, newBalance):\n",
    "        self.balance = newBalance\n",
    "        \n",
    "    def PrintAccountInfo(self):\n",
    "        print('Name:', self.first, self.last)\n",
    "        print('Account Number:', self.accountNum)\n",
    "        print('Balance:', self.balance)\n",
    "        \n",
    "user = Account(first, last, birthday)\n",
    "user.UpdateBalance(account)\n",
    "user.PrintAccountInfo()"
   ]
  }
 ],
 "metadata": {
  "kernelspec": {
   "display_name": "Python 3 (ipykernel)",
   "language": "python",
   "name": "python3"
  },
  "language_info": {
   "codemirror_mode": {
    "name": "ipython",
    "version": 3
   },
   "file_extension": ".py",
   "mimetype": "text/x-python",
   "name": "python",
   "nbconvert_exporter": "python",
   "pygments_lexer": "ipython3",
   "version": "3.9.12"
  }
 },
 "nbformat": 4,
 "nbformat_minor": 5
}
