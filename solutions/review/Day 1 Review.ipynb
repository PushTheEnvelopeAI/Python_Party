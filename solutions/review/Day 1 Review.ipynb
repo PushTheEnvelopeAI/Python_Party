{
 "cells": [
  {
   "cell_type": "markdown",
   "id": "56124553",
   "metadata": {},
   "source": [
    "# 1. Variables"
   ]
  },
  {
   "cell_type": "markdown",
   "id": "36d7b084",
   "metadata": {},
   "source": [
    "### Variable Casting\n",
    "Can you perform the following actions? \n",
    "1. declare x = \"21\"\n",
    "2. convert x to an integer\n",
    "3. add 7 to x\n",
    "4. convert x to float \n",
    "5. convert x to string\n",
    "6. print x\n",
    "7. print the variable type of x"
   ]
  },
  {
   "cell_type": "code",
   "execution_count": 2,
   "id": "c75f56c8",
   "metadata": {},
   "outputs": [
    {
     "name": "stdout",
     "output_type": "stream",
     "text": [
      "28.0\n",
      "<class 'str'>\n"
     ]
    }
   ],
   "source": [
    "x = \"21\"\n",
    "x = int(x)\n",
    "x += 7\n",
    "x = float(x)\n",
    "x = str(x)\n",
    "\n",
    "print(x)\n",
    "print(type(x))"
   ]
  },
  {
   "cell_type": "markdown",
   "id": "0b9fcfe8",
   "metadata": {},
   "source": [
    "### Complex Math\n",
    "Can you print out the answer to the equation below? \n",
    "\n",
    "$a=3$\n",
    "<br>\n",
    "$b=6$\n",
    "<br>\n",
    "$c=1$\n",
    "<br>\n",
    "$d=9$\n",
    "<br>\n",
    "\n",
    "$solution = \\dfrac{{a}\\mod{b}}{c * d} - ({a ^ {b + c - d}})$"
   ]
  },
  {
   "cell_type": "code",
   "execution_count": 3,
   "id": "e25da487",
   "metadata": {},
   "outputs": [
    {
     "name": "stdout",
     "output_type": "stream",
     "text": [
      "0.2222222222222222\n"
     ]
    }
   ],
   "source": [
    "a = 3\n",
    "b = 6\n",
    "c = 1\n",
    "d = 9\n",
    "\n",
    "solution = (a%b)/(c*d) - (a**(b+c-d))\n",
    "print(solution)"
   ]
  },
  {
   "cell_type": "markdown",
   "id": "458987a4",
   "metadata": {},
   "source": [
    "### List Indexing\n",
    "Can you print out the list below in ascending order? \n",
    "\n",
    "x = [8, 2, 5, 3, 9, 1, 0, 4, 7, 6]"
   ]
  },
  {
   "cell_type": "code",
   "execution_count": 4,
   "id": "42cd0e56",
   "metadata": {},
   "outputs": [
    {
     "name": "stdout",
     "output_type": "stream",
     "text": [
      "0 1 2 3 4 5 6 7 8 9\n"
     ]
    }
   ],
   "source": [
    "x = [8, 2, 5, 3, 9, 1, 0, 4, 7, 6]\n",
    "\n",
    "print(x[6], x[5], x[1], x[3], x[7], x[2], x[9], x[8], x[0], x[4])"
   ]
  },
  {
   "cell_type": "markdown",
   "id": "fe9e6545",
   "metadata": {},
   "source": [
    "### Dictionary Referencing\n",
    "Can you print out the dictionary in ascending order? \n",
    "\n",
    "```\n",
    "x = {\"letter1\": \"b\", \n",
    "    \"letter2\": \"f\", \n",
    "    \"letter3\": \"a\", \n",
    "    \"letter4\": \"d\", \n",
    "    \"letter5\": \"c\", \n",
    "    \"letter6\": \"e\"}\n",
    "```"
   ]
  },
  {
   "cell_type": "code",
   "execution_count": 5,
   "id": "115b65e9",
   "metadata": {},
   "outputs": [
    {
     "name": "stdout",
     "output_type": "stream",
     "text": [
      "a b c d e f\n"
     ]
    }
   ],
   "source": [
    "x = {\"letter1\": \"b\", \n",
    "    \"letter2\": \"f\", \n",
    "    \"letter3\": \"a\", \n",
    "    \"letter4\": \"d\", \n",
    "    \"letter5\": \"c\", \n",
    "    \"letter6\": \"e\"}\n",
    "\n",
    "print(x[\"letter3\"], x[\"letter1\"], x[\"letter5\"], x[\"letter4\"], x[\"letter6\"], x[\"letter2\"])"
   ]
  },
  {
   "cell_type": "markdown",
   "id": "073b20ae",
   "metadata": {},
   "source": [
    "# 2. IF Statements"
   ]
  },
  {
   "cell_type": "markdown",
   "id": "29d46ef8",
   "metadata": {},
   "source": [
    "### Basic IF Statements\n",
    "Can you create an IF statement that prints \"POSITIVE\" if a given number is greater than or equal to 0 and \"NEGATIVE\" if it is less than zero?"
   ]
  },
  {
   "cell_type": "code",
   "execution_count": 6,
   "id": "d42654cc",
   "metadata": {},
   "outputs": [
    {
     "name": "stdout",
     "output_type": "stream",
     "text": [
      "POSTIIVE\n"
     ]
    }
   ],
   "source": [
    "x = 5\n",
    "\n",
    "if x >= 0:\n",
    "    print(\"POSTIIVE\")\n",
    "else:\n",
    "    print(\"NEGATIVE\")"
   ]
  },
  {
   "cell_type": "markdown",
   "id": "d32fbb09",
   "metadata": {},
   "source": [
    "### ELIF Statements\n",
    "Can you create an IF/ELIF statement that creates the following logic:\n",
    "   - x < -10: set x = -10\n",
    "   - x > 10: set x = 10\n",
    "   - x = 0: set x = 100000\n",
    "   - all others: dont change x"
   ]
  },
  {
   "cell_type": "code",
   "execution_count": 8,
   "id": "2571f46c",
   "metadata": {},
   "outputs": [
    {
     "name": "stdout",
     "output_type": "stream",
     "text": [
      "10\n"
     ]
    }
   ],
   "source": [
    "x = 1089\n",
    "\n",
    "if x < -10:\n",
    "    x = -10\n",
    "elif x > 10:\n",
    "    x = 10\n",
    "elif x == 0:\n",
    "    x = 1000000\n",
    "\n",
    "print(x)"
   ]
  },
  {
   "cell_type": "markdown",
   "id": "c12ee560",
   "metadata": {},
   "source": [
    "# 3. Loops"
   ]
  },
  {
   "cell_type": "markdown",
   "id": "88c490a7",
   "metadata": {},
   "source": [
    "### For Looping\n",
    "Can you print out the list below using a for loop?\n",
    "\n",
    "x = [2, 5, 5, 7, 32, 7, 1]"
   ]
  },
  {
   "cell_type": "code",
   "execution_count": 10,
   "id": "81f45a67",
   "metadata": {},
   "outputs": [
    {
     "name": "stdout",
     "output_type": "stream",
     "text": [
      "0\n",
      "1\n",
      "2\n",
      "3\n",
      "4\n",
      "5\n",
      "6\n"
     ]
    }
   ],
   "source": [
    "x = [2, 5, 5, 7, 32, 7, 1]\n",
    "\n",
    "for i in range(len(x)):\n",
    "    print(i)"
   ]
  },
  {
   "cell_type": "markdown",
   "id": "a2a40573",
   "metadata": {},
   "source": [
    "### While Looping\n",
    "Can you print out the following list in reverse using a While loop? \n",
    "\n",
    "x = [2, 5, 5, 7, 32, 7, 1]"
   ]
  },
  {
   "cell_type": "code",
   "execution_count": 11,
   "id": "71b2730c",
   "metadata": {},
   "outputs": [
    {
     "name": "stdout",
     "output_type": "stream",
     "text": [
      "1\n",
      "7\n",
      "32\n",
      "7\n",
      "5\n",
      "5\n",
      "2\n"
     ]
    }
   ],
   "source": [
    "i = len(x)-1\n",
    "\n",
    "while i >= 0:\n",
    "    print(x[i])\n",
    "    i -= 1"
   ]
  },
  {
   "cell_type": "markdown",
   "id": "8d98ad02",
   "metadata": {},
   "source": [
    "### Looping within Loops\n",
    "Can you create a new list of every row and column coordinate pair for the game Battleship? \n",
    "\n",
    "rows: A through J\n",
    "<br>\n",
    "columns: 1 through 10"
   ]
  },
  {
   "cell_type": "code",
   "execution_count": 14,
   "id": "88108b44",
   "metadata": {},
   "outputs": [
    {
     "name": "stdout",
     "output_type": "stream",
     "text": [
      "['A1', 'A2', 'A3', 'A4', 'A5', 'A6', 'A7', 'A8', 'A9', 'A10', 'B1', 'B2', 'B3', 'B4', 'B5', 'B6', 'B7', 'B8', 'B9', 'B10', 'C1', 'C2', 'C3', 'C4', 'C5', 'C6', 'C7', 'C8', 'C9', 'C10', 'D1', 'D2', 'D3', 'D4', 'D5', 'D6', 'D7', 'D8', 'D9', 'D10', 'E1', 'E2', 'E3', 'E4', 'E5', 'E6', 'E7', 'E8', 'E9', 'E10', 'F1', 'F2', 'F3', 'F4', 'F5', 'F6', 'F7', 'F8', 'F9', 'F10', 'G1', 'G2', 'G3', 'G4', 'G5', 'G6', 'G7', 'G8', 'G9', 'G10', 'H1', 'H2', 'H3', 'H4', 'H5', 'H6', 'H7', 'H8', 'H9', 'H10', 'I1', 'I2', 'I3', 'I4', 'I5', 'I6', 'I7', 'I8', 'I9', 'I10', 'J1', 'J2', 'J3', 'J4', 'J5', 'J6', 'J7', 'J8', 'J9', 'J10']\n"
     ]
    }
   ],
   "source": [
    "rows = [\"A\", \"B\", \"C\", \"D\", \"E\", \"F\", \"G\", \"H\", \"I\", \"J\"]\n",
    "columns = [1, 2, 3, 4, 5, 6, 7, 8, 9, 10]\n",
    "\n",
    "coordinates = []\n",
    "\n",
    "for row in rows:\n",
    "    for column in columns:\n",
    "        coordinates.append(row + str(column))\n",
    "        \n",
    "print(coordinates)"
   ]
  }
 ],
 "metadata": {
  "kernelspec": {
   "display_name": "Python 3 (ipykernel)",
   "language": "python",
   "name": "python3"
  },
  "language_info": {
   "codemirror_mode": {
    "name": "ipython",
    "version": 3
   },
   "file_extension": ".py",
   "mimetype": "text/x-python",
   "name": "python",
   "nbconvert_exporter": "python",
   "pygments_lexer": "ipython3",
   "version": "3.9.12"
  }
 },
 "nbformat": 4,
 "nbformat_minor": 5
}
