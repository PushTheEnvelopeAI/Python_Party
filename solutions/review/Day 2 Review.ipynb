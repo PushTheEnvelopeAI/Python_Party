{
 "cells": [
  {
   "cell_type": "markdown",
   "id": "cf6c443a",
   "metadata": {},
   "source": [
    "# 1. Functions"
   ]
  },
  {
   "cell_type": "markdown",
   "id": "e80b2ffd",
   "metadata": {},
   "source": [
    "### Defining Functions\n",
    "Can you make a function that print \"Thank you for shopping with us!\" everytime it is called?"
   ]
  },
  {
   "cell_type": "code",
   "execution_count": 1,
   "id": "fab7bac8",
   "metadata": {},
   "outputs": [
    {
     "name": "stdout",
     "output_type": "stream",
     "text": [
      "Thank you for shopping with us!\n"
     ]
    }
   ],
   "source": [
    "def fairwell_message():\n",
    "    print(\"Thank you for shopping with us!\")\n",
    "    \n",
    "fairwell_message()"
   ]
  },
  {
   "cell_type": "markdown",
   "id": "bb99a2ce",
   "metadata": {},
   "source": [
    "### Function Inputs\n",
    "Can you make a function that accepts a persons name and prints \"Thank you for shopping with us, {name}!\" when it is called? "
   ]
  },
  {
   "cell_type": "code",
   "execution_count": 3,
   "id": "00f82fe4",
   "metadata": {},
   "outputs": [
    {
     "name": "stdout",
     "output_type": "stream",
     "text": [
      "Thank you for shopping with us, Adam!\n"
     ]
    }
   ],
   "source": [
    "def fairwell_message(name):\n",
    "    print(\"Thank you for shopping with us, \" + name + \"!\")\n",
    "    \n",
    "fairwell_message(\"Adam\")"
   ]
  },
  {
   "cell_type": "markdown",
   "id": "4458f714",
   "metadata": {},
   "source": [
    "### Function Outputs\n",
    "Can you make a function that accepts a number of items, the price for each, and a name and prints \"Thank you for shopping with us, {name}!\" and returns the total to main?"
   ]
  },
  {
   "cell_type": "code",
   "execution_count": 5,
   "id": "3cc250c3",
   "metadata": {},
   "outputs": [
    {
     "name": "stdout",
     "output_type": "stream",
     "text": [
      "Thank you for shopping with us, Adam!\n",
      "44.97\n"
     ]
    }
   ],
   "source": [
    "def fairwell_message(numItems, price, name):\n",
    "    print(\"Thank you for shopping with us, \" + name + \"!\")\n",
    "    return numItems*price\n",
    "    \n",
    "total = fairwell_message(3, 14.99, \"Adam\")\n",
    "print(total)"
   ]
  },
  {
   "cell_type": "markdown",
   "id": "6bc9dd24",
   "metadata": {},
   "source": [
    "# 2. Classes"
   ]
  },
  {
   "cell_type": "markdown",
   "id": "5217952f",
   "metadata": {},
   "source": [
    "### Defining Classes\n",
    "Can you define a class that stores the base name (GFAFB) and location (Grand Forks, ND) as variables? \n",
    "\n",
    "*you do not need to use init for this*"
   ]
  },
  {
   "cell_type": "code",
   "execution_count": 6,
   "id": "6125b94f",
   "metadata": {},
   "outputs": [
    {
     "name": "stdout",
     "output_type": "stream",
     "text": [
      "GFAFB\n",
      "Grand Forks, ND\n"
     ]
    }
   ],
   "source": [
    "class airman():\n",
    "    base = \"GFAFB\"\n",
    "    location = \"Grand Forks, ND\"\n",
    "    \n",
    "snuffy = airman()\n",
    "print(snuffy.base)\n",
    "print(snuffy.location)"
   ]
  },
  {
   "cell_type": "markdown",
   "id": "3de29a84",
   "metadata": {},
   "source": [
    "### Initializing Classes\n",
    "Can you define a class that initializes with a persons first name, last name and rank and stores it as a variable? "
   ]
  },
  {
   "cell_type": "code",
   "execution_count": 7,
   "id": "6cd2d50e",
   "metadata": {},
   "outputs": [
    {
     "name": "stdout",
     "output_type": "stream",
     "text": [
      "GFAFB\n",
      "Grand Forks, ND\n",
      "SrA Paul Snuffy\n"
     ]
    }
   ],
   "source": [
    "class airman():\n",
    "    base = \"GFAFB\"\n",
    "    location = \"Grand Forks, ND\"\n",
    "    \n",
    "    def __init__(self, first, last, rank):\n",
    "        self.first = first\n",
    "        self.last = last\n",
    "        self.rank = rank\n",
    "        \n",
    "snuffy = airman(\"Paul\", \"Snuffy\", \"SrA\")\n",
    "print(snuffy.base)\n",
    "print(snuffy.location)\n",
    "print(snuffy.rank, snuffy.first, snuffy.last)"
   ]
  },
  {
   "cell_type": "markdown",
   "id": "dc62ecce",
   "metadata": {},
   "source": [
    "### Functions in Classes\n",
    "Can you make a function that prints out all of the information stored within a class once it is initialized? "
   ]
  },
  {
   "cell_type": "code",
   "execution_count": 10,
   "id": "ae7d8837",
   "metadata": {},
   "outputs": [
    {
     "name": "stdout",
     "output_type": "stream",
     "text": [
      "Name: SrA Paul Snuffy\n",
      "Base: GFAFB\n",
      "Location: Grand Forks, ND\n"
     ]
    }
   ],
   "source": [
    "class airman():\n",
    "    base = \"GFAFB\"\n",
    "    location = \"Grand Forks, ND\"\n",
    "    \n",
    "    def __init__(self, first, last, rank):\n",
    "        self.first = first\n",
    "        self.last = last\n",
    "        self.rank = rank\n",
    "        self.print_info()\n",
    "        \n",
    "    def print_info(self):\n",
    "        print(\"Name:\", self.rank, self.first, self.last)\n",
    "        print(\"Base:\", self.base)\n",
    "        print(\"Location:\", self.location)\n",
    "\n",
    "\n",
    "snuffy = airman(\"Paul\", \"Snuffy\", \"SrA\")"
   ]
  },
  {
   "cell_type": "markdown",
   "id": "d83c0bfc",
   "metadata": {},
   "source": [
    "# 3. I/O"
   ]
  },
  {
   "cell_type": "markdown",
   "id": "73ea4416",
   "metadata": {},
   "source": [
    "### Getting User Input\n",
    "Can you request a random number from the user and print out whether or not the number is even or odd? \n",
    "\n",
    "*Hint: the modulus operator can be used to figure out whether a value is even or odd*"
   ]
  },
  {
   "cell_type": "code",
   "execution_count": 11,
   "id": "a133f273",
   "metadata": {},
   "outputs": [
    {
     "name": "stdout",
     "output_type": "stream",
     "text": [
      "Enter a Random Number:3\n",
      "Number is Odd\n"
     ]
    }
   ],
   "source": [
    "randNum = int(input(\"Enter a Random Number:\"))\n",
    "\n",
    "if (randNum%2)==0:\n",
    "    print('Number is Even')\n",
    "else:\n",
    "    print('Number is Odd')"
   ]
  },
  {
   "cell_type": "markdown",
   "id": "707110b6",
   "metadata": {},
   "source": [
    "### Reading a File\n",
    "Can you read in the scores from scores.txt and print to the screen whether team 1 (left) or team 2 (right) won? "
   ]
  },
  {
   "cell_type": "code",
   "execution_count": 12,
   "id": "f2885557",
   "metadata": {},
   "outputs": [
    {
     "name": "stdout",
     "output_type": "stream",
     "text": [
      "Team 1 won\n",
      "Team 1 won\n",
      "Team 1 won\n",
      "Team 1 and Team 2 Tied\n",
      "Team 1 won\n",
      "Team 2 won\n",
      "Team 1 and Team 2 Tied\n",
      "Team 2 won\n",
      "Team 1 won\n"
     ]
    }
   ],
   "source": [
    "with open(\"scores.txt\") as f:\n",
    "    for line in f.readlines():\n",
    "        team1, team2 = line.split(\" to \")\n",
    "        if int(team1) > int(team2):\n",
    "            print(\"Team 1 won\")\n",
    "        elif int(team1) < int(team2):\n",
    "            print(\"Team 2 won\")\n",
    "        else:\n",
    "            print(\"Team 1 and Team 2 Tied\")"
   ]
  },
  {
   "cell_type": "markdown",
   "id": "2d5e0b67",
   "metadata": {},
   "source": [
    "### Writing a File\n",
    "Can you read in the scores from scores.txt and save the different in scores to a new file? "
   ]
  },
  {
   "cell_type": "code",
   "execution_count": 16,
   "id": "1a52c09d",
   "metadata": {},
   "outputs": [],
   "source": [
    "with open(\"scores.txt\") as f:\n",
    "    with open(\"diffs.txt\", \"w\") as w:\n",
    "        for line in f.readlines():\n",
    "            team1, team2 = line.split(\" to \")\n",
    "            w.write(str(int(team1) - int(team2)) + '\\n')"
   ]
  }
 ],
 "metadata": {
  "kernelspec": {
   "display_name": "Python 3 (ipykernel)",
   "language": "python",
   "name": "python3"
  },
  "language_info": {
   "codemirror_mode": {
    "name": "ipython",
    "version": 3
   },
   "file_extension": ".py",
   "mimetype": "text/x-python",
   "name": "python",
   "nbconvert_exporter": "python",
   "pygments_lexer": "ipython3",
   "version": "3.9.12"
  }
 },
 "nbformat": 4,
 "nbformat_minor": 5
}
