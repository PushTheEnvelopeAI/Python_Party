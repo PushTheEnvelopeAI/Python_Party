{
 "cells": [
  {
   "cell_type": "markdown",
   "id": "1849d519",
   "metadata": {},
   "source": [
    "# 1. Basic Conditional Statements"
   ]
  },
  {
   "cell_type": "markdown",
   "id": "e3c3a355",
   "metadata": {},
   "source": [
    "### Equals\n",
    "uses \"==\" to compare if two variables are the same. If they are, returns True. If not, returns false\n",
    "\n",
    "##### Examples:\n",
    "- 1 == 1\n",
    "- 1 == 2\n",
    "- \"red\" == \"red\"\n",
    "- \"RED\" == \"red\""
   ]
  },
  {
   "cell_type": "code",
   "execution_count": 1,
   "id": "bbcca35f",
   "metadata": {},
   "outputs": [
    {
     "name": "stdout",
     "output_type": "stream",
     "text": [
      "True\n",
      "False\n",
      "True\n",
      "False\n"
     ]
    }
   ],
   "source": [
    "print(1 == 1)\n",
    "print(1 == 2)\n",
    "print(\"red\" == \"red\")\n",
    "print(\"RED\" == \"red\")"
   ]
  },
  {
   "cell_type": "markdown",
   "id": "214d101e",
   "metadata": {},
   "source": [
    "### Not Equal\n",
    "uses \"!=\" to compare if two variables are NOT the same. If they aren't, returns True. If they are, returns false\n",
    "\n",
    "##### Examples:\n",
    "- 1 != 1\n",
    "- 1 != 2\n",
    "- \"red\" != \"red\"\n",
    "- \"RED\" != \"red\""
   ]
  },
  {
   "cell_type": "code",
   "execution_count": 2,
   "id": "a840061a",
   "metadata": {},
   "outputs": [
    {
     "name": "stdout",
     "output_type": "stream",
     "text": [
      "False\n",
      "True\n",
      "False\n",
      "True\n"
     ]
    }
   ],
   "source": [
    "print(1 != 1)\n",
    "print(1 != 2)\n",
    "print(\"red\" != \"red\")\n",
    "print(\"RED\" != \"red\")"
   ]
  },
  {
   "cell_type": "markdown",
   "id": "79debb52",
   "metadata": {},
   "source": [
    "### Greater Than, Less Than, Equal To\n",
    "Uses \"<\", \">\", \"<=\", \">=\" to compare two numbers. Return True if condition is met. Return False if it is not\n",
    "\n",
    "##### Examples:\n",
    "- 1 < 2\n",
    "- 1 > 2\n",
    "- 1 <= 1\n",
    "- 1 >= 2"
   ]
  },
  {
   "cell_type": "code",
   "execution_count": 3,
   "id": "5f1a2e65",
   "metadata": {},
   "outputs": [
    {
     "name": "stdout",
     "output_type": "stream",
     "text": [
      "True\n",
      "False\n",
      "True\n",
      "False\n"
     ]
    }
   ],
   "source": [
    "print(1 < 2)\n",
    "print(1 > 2)\n",
    "print(1 <= 1)\n",
    "print(1 >= 2)"
   ]
  },
  {
   "cell_type": "markdown",
   "id": "f0da29fa",
   "metadata": {},
   "source": [
    "# 2. Multi-Conditional Statements"
   ]
  },
  {
   "cell_type": "markdown",
   "id": "269ae5db",
   "metadata": {},
   "source": [
    "### And\n",
    "The operation allows you to test multiple conditions and return True only when ALL conditions are true\n",
    "\n",
    "##### Examples:\n",
    "- 1 < 3 and 3 > 2\n",
    "- \"red\" == \"red\" and \"red\" != \"green\"\n",
    "- x >= 0 and x <= 10"
   ]
  },
  {
   "cell_type": "code",
   "execution_count": 5,
   "id": "0073a021",
   "metadata": {},
   "outputs": [
    {
     "name": "stdout",
     "output_type": "stream",
     "text": [
      "True\n",
      "True\n",
      "True\n",
      "False\n"
     ]
    }
   ],
   "source": [
    "print(1 < 3 and 3 > 2)\n",
    "print(\"red\" == \"red\" and \"red\" != \"green\")\n",
    "\n",
    "x = 5\n",
    "print(x >= 0 and x <= 10)\n",
    "\n",
    "x = 11\n",
    "print(x >= 0 and x <= 10)"
   ]
  },
  {
   "cell_type": "markdown",
   "id": "a132d444",
   "metadata": {},
   "source": [
    "### Or\n",
    "The operation allows you to test multiple conditions and return True if ANY conditions are true\n",
    "\n",
    "##### Examples:\n",
    "- 1 < 3 or 3 > 7\n",
    "- \"red\" == \"red\" or \"red\" == \"green\"\n",
    "- x <= 0 or x >= 10"
   ]
  },
  {
   "cell_type": "code",
   "execution_count": 6,
   "id": "03b6da92",
   "metadata": {},
   "outputs": [
    {
     "name": "stdout",
     "output_type": "stream",
     "text": [
      "True\n",
      "True\n",
      "True\n",
      "True\n"
     ]
    }
   ],
   "source": [
    "print(1 < 3 or 3 > 2)\n",
    "print(\"red\" == \"red\" or \"red\" != \"green\")\n",
    "\n",
    "x = 5\n",
    "print(x >= 0 or x <= 10)\n",
    "\n",
    "x = 11\n",
    "print(x >= 0 or x <= 10)"
   ]
  },
  {
   "cell_type": "markdown",
   "id": "85b5150a",
   "metadata": {},
   "source": [
    "### Chaining Conditions\n",
    "Complex conditional statements can be created by combining multiple and/or statements\n",
    "\n",
    "##### Examples:\n",
    "- (\"red\" == \"red\" and \"red\" == \"green\") or (\"Red\" == \"red\" or \"Red\" == \"Red\")\n",
    "- (x <= 0 and x >= 10) or (x >= 0 and x <= 10)"
   ]
  },
  {
   "cell_type": "code",
   "execution_count": 9,
   "id": "c174476b",
   "metadata": {},
   "outputs": [
    {
     "name": "stdout",
     "output_type": "stream",
     "text": [
      "True\n",
      "True\n",
      "False\n"
     ]
    }
   ],
   "source": [
    "print((\"red\" == \"red\" and \"red\" == \"green\") or (\"Red\" == \"red\" or \"Red\" == \"Red\"))\n",
    "\n",
    "x = 5\n",
    "print((x <= 0 and x >= 10) or (x >= 0 and x <= 10))\n",
    "\n",
    "x = 11\n",
    "print((x <= 0 and x >= 10) or (x >= 0 and x <= 10))"
   ]
  },
  {
   "cell_type": "markdown",
   "id": "6b135cc3",
   "metadata": {},
   "source": [
    "### EXERCISE: Filling in Conditional Statements\n",
    "Can you fill in the conditional statements below so that it returns true for each of the values of x?\n",
    "\n",
    "Conditional Statement:   $(x ___ 0 and x ___ 9) or (x ___ 10) or ((x ___ 10) and (x ___ -29))$\n",
    "\n",
    "x = 0\n",
    "<br>\n",
    "x = 1\n",
    "<br>\n",
    "x = 10\n",
    "<br>\n",
    "x = 4\n",
    "<br>\n",
    "x = -30"
   ]
  },
  {
   "cell_type": "code",
   "execution_count": 18,
   "id": "2f2d1f6f",
   "metadata": {},
   "outputs": [
    {
     "name": "stdout",
     "output_type": "stream",
     "text": [
      "True\n",
      "True\n",
      "True\n",
      "True\n",
      "True\n"
     ]
    }
   ],
   "source": [
    "x = 0\n",
    "print(  (x >= 0 and x < 9) or (x == 10) or ((x != 10) and (x < -29))  )\n",
    "\n",
    "x = 1\n",
    "print(  (x >= 0 and x < 9) or (x == 10) or ((x != 10) and (x < -29))  )\n",
    "\n",
    "x = 10\n",
    "print(  (x >= 0 and x < 9) or (x == 10) or ((x != 10) and (x < -29))  )\n",
    "\n",
    "x = 4\n",
    "print(  (x >= 0 and x < 9) or (x == 10) or ((x != 10) and (x < -29))  )\n",
    "\n",
    "x = -30\n",
    "print(  (x >= 0 and x < 9) or (x == 10) or ((x != 10) and (x < -29))  )"
   ]
  },
  {
   "cell_type": "markdown",
   "id": "5c7d1b51",
   "metadata": {},
   "source": [
    "# 3. IF ELSE Statements"
   ]
  },
  {
   "cell_type": "markdown",
   "id": "89d41fb3",
   "metadata": {},
   "source": [
    "### IF statements\n",
    "Used to test a condition and if True, execute the desired code\n",
    "\n",
    "##### Examples:\n",
    "```\n",
    "if x < 10:\n",
    "    print(x)\n",
    "\n",
    "\n",
    "if (x >= 0) and (x <= 10):\n",
    "    print(x)\n",
    "```"
   ]
  },
  {
   "cell_type": "code",
   "execution_count": 20,
   "id": "cf229857",
   "metadata": {},
   "outputs": [
    {
     "name": "stdout",
     "output_type": "stream",
     "text": [
      "10\n"
     ]
    }
   ],
   "source": [
    "x = 10\n",
    "\n",
    "if x < 10:\n",
    "    print(x)\n",
    "    \n",
    "if (x>=0) and (x <= 10):\n",
    "    print(x)"
   ]
  },
  {
   "cell_type": "markdown",
   "id": "56fbba19",
   "metadata": {},
   "source": [
    "### ELSE statements\n",
    "Used to run code if the IF statement fails. If the IF statement passes, the else block will not be executed\n",
    "\n",
    "##### Examples:\n",
    "```\n",
    "if x < 10:\n",
    "    print(x)\n",
    " else:\n",
    "    print(\"x is not less than 10\")\n",
    "\n",
    "\n",
    "if (x >= 0) and (x <= 10):\n",
    "    print(x)\n",
    " else:\n",
    "    print(\"x is not between 0 and 10\")\n",
    "```"
   ]
  },
  {
   "cell_type": "code",
   "execution_count": 21,
   "id": "17c68dee",
   "metadata": {},
   "outputs": [
    {
     "name": "stdout",
     "output_type": "stream",
     "text": [
      "x is not less than 10\n",
      "10\n"
     ]
    }
   ],
   "source": [
    "x = 10\n",
    "\n",
    "if x < 10:\n",
    "    print(x)\n",
    "else:\n",
    "    print(\"x is not less than 10\")\n",
    "\n",
    "    \n",
    "if (x >= 0) and (x <= 10):\n",
    "    print(x)\n",
    "else:\n",
    "    print(\"x is not between 0 and 10\")"
   ]
  },
  {
   "cell_type": "markdown",
   "id": "a7e8a26e",
   "metadata": {},
   "source": [
    "### ELIF statements\n",
    "Used to run multiple conditional tests within an IF statement. The first one that is true will execute.\n",
    "\n",
    "##### Examples:\n",
    "```\n",
    "if x < 10:\n",
    "    print(\"x < 10\")\n",
    " elif x > 10:\n",
    "    print(\"x > 10\")\n",
    " else:\n",
    "    print(\"x = 10\")\n",
    "\n",
    "\n",
    "if (x >= 0) and (x <= 10):\n",
    "    print(\"0 >= x <= 10\")\n",
    " elif x < 0:\n",
    "    print(\"x < 0\")\n",
    " elif x > 10:\n",
    "    print(\"x > 10\")\n",
    "```"
   ]
  },
  {
   "cell_type": "code",
   "execution_count": 26,
   "id": "d7222194",
   "metadata": {},
   "outputs": [
    {
     "name": "stdout",
     "output_type": "stream",
     "text": [
      "x = 10\n",
      "0 >= x <= 10\n"
     ]
    }
   ],
   "source": [
    "x = 10\n",
    "\n",
    "if x < 10:\n",
    "    print(\"x < 10\")\n",
    "elif x > 10:\n",
    "    print(\"x > 10\")\n",
    "else:\n",
    "    print(\"x = 10\")\n",
    "\n",
    "\n",
    "if (x >= 0) and (x <= 10):\n",
    "    print(\"0 >= x <= 10\")\n",
    "elif x < 0:\n",
    "    print(\"x < 0\")\n",
    "elif x > 10:\n",
    "    print(\"x > 10\")"
   ]
  },
  {
   "cell_type": "markdown",
   "id": "78e7b4f8",
   "metadata": {},
   "source": [
    "### EXERCISE: Find the Hidden Message\n",
    "What hidden message does the IF statement return if the numbers were run in this order:\n",
    "\n",
    "x: 1, 11, 3, 2, 13, 4, -2, 3, 6, 11, 14, 8, 7\n",
    "\n",
    "```\n",
    "if x >= 10 and x != 11:\n",
    "    print(\"U\")\n",
    "elif x < 0 or x == 5:\n",
    "    print(\"S\")\n",
    "elif x > 10 and x < 12:\n",
    "    print(\"O\")\n",
    "elif x == 2:\n",
    "    print(\"B\")\n",
    "elif x >= 0 and x < 2:\n",
    "    print(\"N\")\n",
    "elif x >= 6 and x < 7:\n",
    "    print(\"F\")\n",
    "elif x >=8 and x <= 9:\n",
    "    print(\"N\")\n",
    "elif x == 4 and x != 3:\n",
    "    print(\"G\")\n",
    "elif x != 3:\n",
    "    print(\"D\")\n",
    "else:\n",
    "    print(\" \")\n",
    "```"
   ]
  },
  {
   "cell_type": "code",
   "execution_count": 33,
   "id": "70f6ff56",
   "metadata": {},
   "outputs": [
    {
     "name": "stdout",
     "output_type": "stream",
     "text": [
      "N\n",
      "O\n",
      " \n",
      "B\n",
      "U\n",
      "G\n",
      "S\n",
      " \n",
      "F\n",
      "O\n",
      "U\n",
      "N\n",
      "D\n"
     ]
    }
   ],
   "source": [
    "for x in [1, 11, 3, 2, 13, 4, -2, 3, 6, 11, 14, 8, 7]:\n",
    "\n",
    "    if x >= 10 and x != 11:\n",
    "        print(\"U\")\n",
    "    elif x < 0 or x == 5:\n",
    "        print(\"S\")\n",
    "    elif x > 10 and x < 12:\n",
    "        print(\"O\")\n",
    "    elif x == 2:\n",
    "        print(\"B\")\n",
    "    elif x >= 0 and x < 2:\n",
    "        print(\"N\")\n",
    "    elif x >= 6 and x < 7:\n",
    "        print(\"F\")\n",
    "    elif x >=8 and x <= 9:\n",
    "        print(\"N\")\n",
    "    elif x == 4 and x != 3:\n",
    "        print(\"G\")\n",
    "    elif x != 3:\n",
    "        print(\"D\")\n",
    "    else:\n",
    "        print(\" \")"
   ]
  }
 ],
 "metadata": {
  "kernelspec": {
   "display_name": "Python 3 (ipykernel)",
   "language": "python",
   "name": "python3"
  },
  "language_info": {
   "codemirror_mode": {
    "name": "ipython",
    "version": 3
   },
   "file_extension": ".py",
   "mimetype": "text/x-python",
   "name": "python",
   "nbconvert_exporter": "python",
   "pygments_lexer": "ipython3",
   "version": "3.9.12"
  }
 },
 "nbformat": 4,
 "nbformat_minor": 5
}
