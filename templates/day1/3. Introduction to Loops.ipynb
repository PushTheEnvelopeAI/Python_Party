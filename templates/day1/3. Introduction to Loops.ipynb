{
 "cells": [
  {
   "cell_type": "markdown",
   "id": "fa002566",
   "metadata": {},
   "source": [
    "# 1. For Loop"
   ]
  },
  {
   "cell_type": "markdown",
   "id": "f4f3173d",
   "metadata": {},
   "source": [
    "### Looping Through List\n",
    "Using a for loop to iterate through a list will allow you to perform code on each element within the list\n",
    "\n",
    "##### Examples:\n",
    "```\n",
    "for x in [0, 1, 2, 3, 4]:\n",
    "    print(x)\n",
    "\n",
    "\n",
    "for x in myList:\n",
    "    print(x)\n",
    "```"
   ]
  },
  {
   "cell_type": "code",
   "execution_count": null,
   "id": "ebf10782",
   "metadata": {},
   "outputs": [],
   "source": [
    "\n",
    "\n",
    "\n"
   ]
  },
  {
   "cell_type": "markdown",
   "id": "4c87031d",
   "metadata": {},
   "source": [
    "### EXERCISE: List Squared by Value\n",
    "Can you print the squared value for each element in the list?\n",
    "\n",
    "myList = [1, 2, 3, 4, 5]"
   ]
  },
  {
   "cell_type": "code",
   "execution_count": null,
   "id": "2ff98354",
   "metadata": {},
   "outputs": [],
   "source": [
    "\n",
    "\n",
    "\n"
   ]
  },
  {
   "cell_type": "markdown",
   "id": "114c60f2",
   "metadata": {},
   "source": [
    "### EXERCISE: Calculating Gratuity\n",
    "Can you calculate the amount of tip to leave for each bill using 18%?\n",
    "\n",
    "bills = [102.24, 20.54, 15.20, 40.65, 78.93]"
   ]
  },
  {
   "cell_type": "code",
   "execution_count": null,
   "id": "5bafa202",
   "metadata": {},
   "outputs": [],
   "source": [
    "\n",
    "\n",
    "\n"
   ]
  },
  {
   "cell_type": "markdown",
   "id": "abd6a58d",
   "metadata": {},
   "source": [
    "### Looping Using Index\n",
    "Looping using index values allow you to reference a location in a list instead of its value\n",
    "\n",
    "```\n",
    "for x in range(5):\n",
    "    print(myList[x])\n",
    "\n",
    "\n",
    "for x in range(len(myList)):\n",
    "    print(myList[x])\n",
    "```"
   ]
  },
  {
   "cell_type": "code",
   "execution_count": null,
   "id": "e4f0236e",
   "metadata": {},
   "outputs": [],
   "source": [
    "\n",
    "\n",
    "\n"
   ]
  },
  {
   "cell_type": "markdown",
   "id": "96a6dc5a",
   "metadata": {},
   "source": [
    "### EXERCISE: List Squared\n",
    "Can you print the squared value for each element in the list using its index?\n",
    "\n",
    "myList = [1, 2, 3, 4, 5]"
   ]
  },
  {
   "cell_type": "code",
   "execution_count": null,
   "id": "75da837f",
   "metadata": {},
   "outputs": [],
   "source": [
    "\n",
    "\n",
    "\n"
   ]
  },
  {
   "cell_type": "markdown",
   "id": "13c9a4cb",
   "metadata": {},
   "source": [
    "### EXERCISE: Calculating Gratuity\n",
    "Can you calculate the amount of tip to leave for each bill using 18% by referencing the list's index values?\n",
    "\n",
    "bills = [102.24, 20.54, 15.20, 40.65, 78.93]"
   ]
  },
  {
   "cell_type": "code",
   "execution_count": null,
   "id": "46acc09b",
   "metadata": {},
   "outputs": [],
   "source": [
    "\n",
    "\n",
    "\n"
   ]
  },
  {
   "cell_type": "markdown",
   "id": "c0900405",
   "metadata": {},
   "source": [
    "### EXERCISE: Combining names\n",
    "Can you print out the persons full name by looping through the lists?\n",
    "\n",
    "firstNames = [\"Tom\", \"Phil\", \"Tyson\", \"Karen\", \"Sue\"]\n",
    "<br>\n",
    "lastNames = [\"Michaels\", \"Peters\", \"Blake\", \"Jones\", \"Williams\"]"
   ]
  },
  {
   "cell_type": "code",
   "execution_count": null,
   "id": "5628517a",
   "metadata": {},
   "outputs": [],
   "source": [
    "\n",
    "\n",
    "\n"
   ]
  },
  {
   "cell_type": "markdown",
   "id": "148b20c0",
   "metadata": {},
   "source": [
    "### EXERCISE: Summing Two Lists\n",
    "Can you add the values of both lists by looping using its index?\n",
    "\n",
    "list1 = [1, 2, 3, 4, 5]\n",
    "<br>\n",
    "list2 = [2, 4, 6, 8, 10]"
   ]
  },
  {
   "cell_type": "code",
   "execution_count": null,
   "id": "215d241d",
   "metadata": {},
   "outputs": [],
   "source": [
    "\n",
    "\n",
    "\n"
   ]
  },
  {
   "cell_type": "markdown",
   "id": "a9a0c745",
   "metadata": {},
   "source": [
    "### EXERCISE: Calculating Stock Value\n",
    "Can you print the stock name and total amount invested (shares*price) in each stock?\n",
    "\n",
    "stocks = [\"AAPL\", \"TSLA\", \"GOOG\", \"META\", \"AMZN\"]\n",
    "<br>\n",
    "prices = [132.61, 765.25, 77.21, 209.02, 340.56]\n",
    "<br>\n",
    "shares = [2, 1, 4, 6, 2]"
   ]
  },
  {
   "cell_type": "code",
   "execution_count": null,
   "id": "02343190",
   "metadata": {},
   "outputs": [],
   "source": [
    "\n",
    "\n",
    "\n"
   ]
  },
  {
   "cell_type": "markdown",
   "id": "bb5296f9",
   "metadata": {},
   "source": [
    "### EXERCISE: Calculating Stock Value (Part II)\n",
    "Using what you did in the previous exercise, can you calculate your total account value from your individual stocks?\n",
    "\n",
    "stocks = [\"AAPL\", \"TSLA\", \"GOOG\", \"META\", \"AMZN\"]\n",
    "<br>\n",
    "prices = [132.61, 765.25, 77.21, 209.02, 340.56]\n",
    "<br>\n",
    "shares = [2, 1, 4, 6, 2]"
   ]
  },
  {
   "cell_type": "code",
   "execution_count": null,
   "id": "a988a815",
   "metadata": {},
   "outputs": [],
   "source": [
    "\n",
    "\n",
    "\n"
   ]
  },
  {
   "cell_type": "markdown",
   "id": "b71e87c8",
   "metadata": {},
   "source": [
    "### Creating New Lists using Looping\n",
    "By using the list's append function, you can create new lists using a for loop\n",
    "\n",
    "```\n",
    "for x in range(5):\n",
    "    myList.append(x)\n",
    "\n",
    "\n",
    "for x in list1:\n",
    "    list2.append(x**2)\n",
    "```"
   ]
  },
  {
   "cell_type": "code",
   "execution_count": null,
   "id": "fe33e370",
   "metadata": {},
   "outputs": [],
   "source": [
    "\n",
    "\n",
    "\n"
   ]
  },
  {
   "cell_type": "markdown",
   "id": "5f1e41e6",
   "metadata": {},
   "source": [
    "### EXERCISE: Combining names\n",
    "Can you create a new list of complete names by combing first and last names?\n",
    "\n",
    "firstNames = [\"Tom\", \"Phil\", \"Tyson\", \"Karen\", \"Sue\"]\n",
    "<br>\n",
    "lastNames = [\"Michaels\", \"Peters\", \"Blake\", \"Jones\", \"Williams\"]"
   ]
  },
  {
   "cell_type": "code",
   "execution_count": null,
   "id": "bd3b6f87",
   "metadata": {},
   "outputs": [],
   "source": [
    "\n",
    "\n",
    "\n"
   ]
  },
  {
   "cell_type": "markdown",
   "id": "c312d781",
   "metadata": {},
   "source": [
    "### EXERCISE: Calculating Total Bill\n",
    "Can you create a new list that stores the total bill amounts by adding the base cost with the tip amount?\n",
    "\n",
    "bills = [12.55, 65.61, 20.53, 13.56, 40.65]\n",
    "<br>\n",
    "tips = [2.53, 12.65, 4.62, 4.25, 9.21]"
   ]
  },
  {
   "cell_type": "code",
   "execution_count": null,
   "id": "9b65b941",
   "metadata": {},
   "outputs": [],
   "source": [
    "\n",
    "\n",
    "\n"
   ]
  },
  {
   "cell_type": "markdown",
   "id": "b0ad40b3",
   "metadata": {},
   "source": [
    "### EXERCISE: Competition Scoring\n",
    "Can you create a new list with the average score the judges gave each competitor in the coding competition?\n",
    "\n",
    "judge1 = [3, 4, 5, 2, 3]\n",
    "<br>\n",
    "judge2 = [4, 2, 5, 1, 2]\n",
    "<br>\n",
    "judge3 = [5, 2, 4, 1, 1]\n",
    "<br>\n",
    "judge4 = [4, 3, 5, 1, 3]"
   ]
  },
  {
   "cell_type": "code",
   "execution_count": null,
   "id": "170e37ca",
   "metadata": {},
   "outputs": [],
   "source": [
    "\n",
    "\n",
    "\n"
   ]
  },
  {
   "cell_type": "markdown",
   "id": "4dd5ec2d",
   "metadata": {},
   "source": [
    "# 2. While Loop"
   ]
  },
  {
   "cell_type": "markdown",
   "id": "fe211e5e",
   "metadata": {},
   "source": [
    "### Discrete Looping\n",
    "Used to loop a predetermined amount of times\n",
    "\n",
    "##### Examples:\n",
    "```\n",
    "i = 0\n",
    "while i<10:\n",
    "    print(i)\n",
    "    i = i+1\n",
    "\n",
    "\n",
    "i=10\n",
    "while i>=0:\n",
    "    print(i)\n",
    "    i -= 1\n",
    "```"
   ]
  },
  {
   "cell_type": "code",
   "execution_count": null,
   "id": "22443860",
   "metadata": {},
   "outputs": [],
   "source": [
    "\n",
    "\n",
    "\n"
   ]
  },
  {
   "cell_type": "markdown",
   "id": "33f2bc8d",
   "metadata": {},
   "source": [
    "### EXERCISE: Print a List\n",
    "Can you print each value in the list using a while loop?\n",
    "\n",
    "myList = [1, 2, 3, 4, 5]"
   ]
  },
  {
   "cell_type": "code",
   "execution_count": null,
   "id": "b880c17d",
   "metadata": {},
   "outputs": [],
   "source": [
    "\n",
    "\n",
    "\n"
   ]
  },
  {
   "cell_type": "markdown",
   "id": "6e1f225b",
   "metadata": {},
   "source": [
    "### EXERCISE: Print a List in Reverse\n",
    "Can you print each value in the list in reverse using a while loop?\n",
    "\n",
    "myList = [1, 2, 3, 4, 5]"
   ]
  },
  {
   "cell_type": "code",
   "execution_count": null,
   "id": "a51dd5bd",
   "metadata": {},
   "outputs": [],
   "source": [
    "\n",
    "\n",
    "\n"
   ]
  },
  {
   "cell_type": "markdown",
   "id": "8edbd22c",
   "metadata": {},
   "source": [
    "### Conditional looping\n",
    "Used to loop until a condition is met\n",
    "\n",
    "##### Examples:\n",
    "```\n",
    "while value < 10000:\n",
    "    value = value ** 2\n",
    "\n",
    "\n",
    "while account > 0:\n",
    "    account -= 1000\n",
    "```"
   ]
  },
  {
   "cell_type": "code",
   "execution_count": null,
   "id": "415f4059",
   "metadata": {},
   "outputs": [],
   "source": [
    "\n",
    "\n",
    "\n"
   ]
  },
  {
   "cell_type": "markdown",
   "id": "b10cdebf",
   "metadata": {},
   "source": [
    "### EXERCISE: Vacation Savings\n",
    "Can you deposit 10 dollars into a new account until the price reaches 1000 dollars for a vacation?"
   ]
  },
  {
   "cell_type": "code",
   "execution_count": null,
   "id": "b72cc482",
   "metadata": {},
   "outputs": [],
   "source": [
    "\n",
    "\n",
    "\n"
   ]
  },
  {
   "cell_type": "markdown",
   "id": "76fc3397",
   "metadata": {},
   "source": [
    "### EXERCISE: Find Waldo\n",
    "Can you look through a list of people until you find Waldo?\n",
    "\n",
    "crowd = ['Tom', 'Shauna', 'Eric', 'Pete', 'Jerome', 'Erin', 'Destiny', 'James', 'Waldo', 'Jason', 'Jamie']"
   ]
  },
  {
   "cell_type": "code",
   "execution_count": null,
   "id": "8e4ce782",
   "metadata": {},
   "outputs": [],
   "source": [
    "\n",
    "\n",
    "\n"
   ]
  },
  {
   "cell_type": "markdown",
   "id": "8ae87053",
   "metadata": {},
   "source": [
    "# 3. Advanced Looping"
   ]
  },
  {
   "cell_type": "markdown",
   "id": "9665fa4b",
   "metadata": {},
   "source": [
    "### Loops within Loops\n",
    "Used to run loops of code within an already existing loop of code\n",
    "\n",
    "##### Examples:\n",
    "```\n",
    "for year in years:\n",
    "    for month in months:\n",
    "        print(month, year)\n",
    "\n",
    "\n",
    "while account > 0:\n",
    "    for withdraw in withdraws:\n",
    "        account -= withdraw\n",
    "```"
   ]
  },
  {
   "cell_type": "code",
   "execution_count": null,
   "id": "37b39bb1",
   "metadata": {},
   "outputs": [],
   "source": [
    "\n",
    "\n",
    "\n"
   ]
  },
  {
   "cell_type": "markdown",
   "id": "05c56bf5",
   "metadata": {},
   "source": [
    "### EXERCISE: Random Name Generator\n",
    "Can you print every combination of first and last names for the lists below?\n",
    "\n",
    "firstNames = [\"Tom\", \"Phil\", \"Tyson\", \"Karen\", \"Sue\"]\n",
    "<br>\n",
    "lastNames = [\"Michaels\", \"Peters\", \"Blake\", \"Jones\", \"Williams\"]"
   ]
  },
  {
   "cell_type": "code",
   "execution_count": null,
   "id": "7bdb3c00",
   "metadata": {},
   "outputs": [],
   "source": [
    "\n",
    "\n",
    "\n"
   ]
  },
  {
   "cell_type": "markdown",
   "id": "a367f4be",
   "metadata": {},
   "source": [
    "### Looping with IF statements\n",
    "Using if statements within loops to add complexity to the loop logic\n",
    "\n",
    "##### Examples:\n",
    "```\n",
    "for x in range(10):\n",
    "    if (x % 2) == 0:\n",
    "        print('even')\n",
    "    else:\n",
    "        print('odd')\n",
    "\n",
    "\n",
    "for person in crowd:\n",
    "    if person == \"Waldo\":\n",
    "        print(\"Him!\")\n",
    "    else:\n",
    "        print(\"Not him.\")\n",
    "```"
   ]
  },
  {
   "cell_type": "code",
   "execution_count": null,
   "id": "f6b148c0",
   "metadata": {},
   "outputs": [],
   "source": [
    "\n",
    "\n",
    "\n"
   ]
  },
  {
   "cell_type": "markdown",
   "id": "dccf2022",
   "metadata": {},
   "source": [
    "### EXERCISE: Gratuity Calculator\n",
    "Can you determine the amount of gratuity to pay per bill based on service level? \n",
    "\n",
    "\"bad\" : 10%\n",
    "<br>\n",
    "\"okay\" : 15%\n",
    "<br>\n",
    "\"good\" : 18%\n",
    "<br>\n",
    "\"great\" : 22%\n",
    "<br> \n",
    "<br>\n",
    "service = [\"good\", \"bad\", \"great\", \"good\", \"okay\", \"great\", \"bad\"]\n",
    "<br>\n",
    "bills = [34.62, 63.73, 52.73, 83.63, 35.62, 25.67, 97.83]"
   ]
  },
  {
   "cell_type": "code",
   "execution_count": null,
   "id": "fd2ae737",
   "metadata": {},
   "outputs": [],
   "source": [
    "\n",
    "\n",
    "\n"
   ]
  },
  {
   "cell_type": "markdown",
   "id": "6b87f2dd",
   "metadata": {},
   "source": [
    "### EXERCISE: Fraud Detection\n",
    "Can you identify potentially fraudulent purchases in the purchases below as anything over 5000 dollars and not expected.\n",
    "\n",
    "purchases = [234.63, 2.53, 642.63, 6424.52, 532.53, 64.23, 23465.35, 25.35, 7564.75, 75.34, 5747.33]\n",
    "<br>\n",
    "expected = [True, True, False, False, True, True, True, False, False, True, True]"
   ]
  },
  {
   "cell_type": "code",
   "execution_count": null,
   "id": "84ea9105",
   "metadata": {},
   "outputs": [],
   "source": [
    "\n",
    "\n",
    "\n"
   ]
  }
 ],
 "metadata": {
  "kernelspec": {
   "display_name": "Python 3 (ipykernel)",
   "language": "python",
   "name": "python3"
  },
  "language_info": {
   "codemirror_mode": {
    "name": "ipython",
    "version": 3
   },
   "file_extension": ".py",
   "mimetype": "text/x-python",
   "name": "python",
   "nbconvert_exporter": "python",
   "pygments_lexer": "ipython3",
   "version": "3.9.12"
  }
 },
 "nbformat": 4,
 "nbformat_minor": 5
}
