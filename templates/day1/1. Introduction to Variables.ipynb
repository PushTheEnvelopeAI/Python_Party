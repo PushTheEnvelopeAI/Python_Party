{
 "cells": [
  {
   "cell_type": "markdown",
   "id": "ce4106d1-d75f-4718-9534-fb3f3cca7092",
   "metadata": {},
   "source": [
    "# 1. Python Variable Types"
   ]
  },
  {
   "cell_type": "markdown",
   "id": "ada72d5a-1099-4c43-8473-0d5ffc6b6088",
   "metadata": {},
   "source": [
    "### Strings\n",
    "Any character or sequence of characters forming text. Can include numbers and symbols in addition to letters\n",
    "##### Examples:\n",
    "- \"Hello World\"\n",
    "- \"P@ssW0Rd\"\n",
    "- \"1234567\""
   ]
  },
  {
   "cell_type": "code",
   "execution_count": null,
   "id": "5539b43e-75ae-49d1-b73b-d330c6dc74f1",
   "metadata": {},
   "outputs": [],
   "source": [
    "\n",
    "\n",
    "\n"
   ]
  },
  {
   "cell_type": "markdown",
   "id": "9dfd854d-2eeb-4613-a9b3-d042ccc5b6b0",
   "metadata": {},
   "source": [
    "### Integers\n",
    "Any positive or negative whole number including 0\n",
    "##### Examples:\n",
    "- -2\n",
    "- 0\n",
    "- 2"
   ]
  },
  {
   "cell_type": "code",
   "execution_count": null,
   "id": "a46ae982-4622-46c7-bcc1-256d9c953aef",
   "metadata": {},
   "outputs": [],
   "source": [
    "\n",
    "\n",
    "\n"
   ]
  },
  {
   "cell_type": "markdown",
   "id": "fc365cee-c726-4e07-b294-5475b8b382de",
   "metadata": {},
   "source": [
    "### Floats\n",
    "Any positive or negative decimal number including 0.0\n",
    "##### Examples:\n",
    "- -2.12\n",
    "- 0.0\n",
    "- 2.1365"
   ]
  },
  {
   "cell_type": "code",
   "execution_count": null,
   "id": "4f6b2021-7e96-4b1c-b817-25cb245fc793",
   "metadata": {},
   "outputs": [],
   "source": [
    "\n",
    "\n",
    "\n"
   ]
  },
  {
   "cell_type": "markdown",
   "id": "91842348-9620-4ce5-8333-9746ebea2f61",
   "metadata": {},
   "source": [
    "### Bools\n",
    "Any true of false value or value that computes to true or false\n",
    "##### Examples:\n",
    "- True\n",
    "- False\n",
    "- 1 -> True\n",
    "- 0 -> False\n",
    "- \"Hello World\" -> True\n",
    "- \"\" -> False"
   ]
  },
  {
   "cell_type": "code",
   "execution_count": null,
   "id": "66577009-6ece-4fba-9f0a-62b885ac6b81",
   "metadata": {},
   "outputs": [],
   "source": [
    "\n",
    "\n",
    "\n"
   ]
  },
  {
   "cell_type": "markdown",
   "id": "9aa85a34-e49f-4cff-b321-d7f7af5a1810",
   "metadata": {},
   "source": [
    "### Changing between variables\n",
    "casting variables can to different types can change the variable and make it useful for other operations\n",
    "##### Examples:\n",
    "- \"1234\"\n",
    "- int(1234)\n",
    "- float(1234)\n",
    "- str(1234)"
   ]
  },
  {
   "cell_type": "code",
   "execution_count": null,
   "id": "16892004-475b-4696-b5fb-f1c5421d4893",
   "metadata": {},
   "outputs": [],
   "source": [
    "\n",
    "\n",
    "\n"
   ]
  },
  {
   "cell_type": "markdown",
   "id": "142c4384-71b5-46b9-b65d-74700f53a5d0",
   "metadata": {},
   "source": [
    "# 2. Math Operations"
   ]
  },
  {
   "cell_type": "markdown",
   "id": "ca9184fe-0a33-43dd-846a-090abb0adba1",
   "metadata": {},
   "source": [
    "### Addition\n",
    "Adding two variables together. Cannot mix variable types with the exception of floats and ints\n",
    "##### Examples:\n",
    "- 1 + 2\n",
    "- 1.1 + 2.2\n",
    "- 1 + 2.2\n",
    "- \"Hello\" + \"World\"\n",
    "- \"Hello\" + 1 -> error"
   ]
  },
  {
   "cell_type": "code",
   "execution_count": null,
   "id": "a7d0bc9f-343a-4704-87ae-c5d2f2731a8f",
   "metadata": {},
   "outputs": [],
   "source": [
    "\n",
    "\n",
    "\n"
   ]
  },
  {
   "cell_type": "markdown",
   "id": "b2609733-5bb6-49e6-8abb-2f7338874981",
   "metadata": {},
   "source": [
    "### Subtraction\n",
    "Subtracting two variables. Limited to only number variables\n",
    "##### Examples:\n",
    "- 1 - 2\n",
    "- 1.1 - 2.2\n",
    "- 2 - 1.1\n",
    "- \"Hello\" - \"H\" -> error"
   ]
  },
  {
   "cell_type": "code",
   "execution_count": null,
   "id": "41747ee2-8217-4459-b2a1-0880015bc2d2",
   "metadata": {},
   "outputs": [],
   "source": [
    "\n",
    "\n",
    "\n"
   ]
  },
  {
   "cell_type": "markdown",
   "id": "7a392317-9340-466c-8a34-2574baef546d",
   "metadata": {},
   "source": [
    "### Multiplication\n",
    "Multiplying two variables. Can include numbers and strings\n",
    "##### Examples:\n",
    "- 1 * 2\n",
    "- 1.1 * 2.2\n",
    "- 2 * 1.1\n",
    "- \"Hello\" * 3"
   ]
  },
  {
   "cell_type": "code",
   "execution_count": null,
   "id": "a5a949bb-ad52-477d-b4aa-dfdaf88b0baa",
   "metadata": {},
   "outputs": [],
   "source": [
    "\n",
    "\n",
    "\n"
   ]
  },
  {
   "cell_type": "markdown",
   "id": "f84843df-e654-4902-acb5-ea2b8dcc6a40",
   "metadata": {},
   "source": [
    "### Division\n",
    "Dividing two variables. Limited to only number variables\n",
    "##### Examples:\n",
    "- 1 / 2\n",
    "- 1.1 / 2.2\n",
    "- 2 / 1.1\n",
    "- \"Hello\" / 3 -> error"
   ]
  },
  {
   "cell_type": "code",
   "execution_count": null,
   "id": "47e1f24c-8a33-4956-8165-3020a255f8c2",
   "metadata": {},
   "outputs": [],
   "source": [
    "\n",
    "\n",
    "\n"
   ]
  },
  {
   "cell_type": "markdown",
   "id": "3488e9db-aef5-4bca-ba24-6d6944d58c76",
   "metadata": {},
   "source": [
    "### Exponents\n",
    "Exponentiate two variables. Limited to only number variables\n",
    "##### Examples:\n",
    "- 1 ** 2\n",
    "- 1.1 ** 2.2\n",
    "- 2 ** 1.1\n",
    "- \"Hello\" ** 3 -> error"
   ]
  },
  {
   "cell_type": "code",
   "execution_count": null,
   "id": "82bc27d6-9136-4df4-aa6a-09e1708f5287",
   "metadata": {},
   "outputs": [],
   "source": [
    "\n",
    "\n",
    "\n"
   ]
  },
  {
   "cell_type": "markdown",
   "id": "633366fb-58d6-4818-87d6-cb34a956a15a",
   "metadata": {},
   "source": [
    "### Base and Modulo\n",
    "Returning the whole number or remainder parts of a fraction. Limited to only number variables\n",
    "##### Examples:\n",
    "- 10 / 3 = 3.333 = 3 1/3\n",
    "- 10 // 3 = 3 -> whole number\n",
    "- 10 % 3 = 1 -> remainder"
   ]
  },
  {
   "cell_type": "code",
   "execution_count": null,
   "id": "5939e5df-116c-47e8-b4a9-c4d0e67c1b91",
   "metadata": {},
   "outputs": [],
   "source": [
    "\n",
    "\n",
    "\n"
   ]
  },
  {
   "cell_type": "markdown",
   "id": "22cad210-f9e2-4e7f-aee7-2cb59bd3d58a",
   "metadata": {},
   "source": [
    "### Using Multiple Variables\n",
    "Math operations can be performed using multiple variables to store piece of the equation\n",
    "##### Examples:\n",
    "- a = 2\n",
    "- b = 1.1\n",
    "- myAnswer = a + b"
   ]
  },
  {
   "cell_type": "code",
   "execution_count": null,
   "id": "605202fe-2081-41cc-8015-99b8f4c6ca43",
   "metadata": {},
   "outputs": [],
   "source": [
    "\n",
    "\n",
    "\n"
   ]
  },
  {
   "cell_type": "markdown",
   "id": "03ca811e-5143-4856-93d4-9c7e07dce7c1",
   "metadata": {},
   "source": [
    "### EXERCISE: Complex Math Operations\n",
    "Can you solve the math problem below using Python variables and Math Operations?\n",
    "\n",
    "$a=2$\n",
    "<br>\n",
    "$b=5$\n",
    "<br>\n",
    "$c=10$\n",
    "<br>\n",
    "$d=1$\n",
    "\n",
    "$solution = \\dfrac{a + b}{c - d} - ({a ^ b} + {c ^ d})$"
   ]
  },
  {
   "cell_type": "code",
   "execution_count": null,
   "id": "87f5d507-c07f-4ff1-ac2f-f4b7de9f21c8",
   "metadata": {},
   "outputs": [],
   "source": [
    "\n",
    "\n",
    "\n"
   ]
  },
  {
   "cell_type": "markdown",
   "id": "f2436f1a-9030-421a-b540-6606e3808ed1",
   "metadata": {},
   "source": [
    "# 3. Lists"
   ]
  },
  {
   "cell_type": "markdown",
   "id": "e0595039",
   "metadata": {},
   "source": [
    "### Defining Lists\n",
    "Lists are ways of storing multiple variables together as one single variable. Can mix type of variables\n",
    "##### Example: \n",
    "- [1, 2, 3, 4, 5]\n",
    "- [\"a\", \"b\", \"c\", \"d\", \"e\"]\n",
    "- [\"a\", 2, True, 3.9]"
   ]
  },
  {
   "cell_type": "code",
   "execution_count": null,
   "id": "60200755",
   "metadata": {},
   "outputs": [],
   "source": [
    "\n",
    "\n",
    "\n"
   ]
  },
  {
   "cell_type": "markdown",
   "id": "ce34dc8a",
   "metadata": {},
   "source": [
    "### Indexing Lists\n",
    "Indexing is used to get specific elements within a list. In Python, indexing starts at 0 which may not be the same for all programming languages\n",
    "##### Example: \n",
    "- myList = [\"a\", \"b\", \"c\", \"d\"]\n",
    "- myList[0]\n",
    "- myList[2]\n",
    "- myList[-1]\n",
    "- myList[4]"
   ]
  },
  {
   "cell_type": "code",
   "execution_count": null,
   "id": "5672b53c",
   "metadata": {},
   "outputs": [],
   "source": [
    "\n",
    "\n",
    "\n"
   ]
  },
  {
   "cell_type": "markdown",
   "id": "cc1cb8ab",
   "metadata": {},
   "source": [
    "### EXERCISE: Indexing Lists\n",
    "Can you index the following list to print HELLO WORLD to the screen? \n",
    "\n",
    "letters = [\"O\", \"L\", \"W\", \"R\", \"E\", \"D\", \"H\", \" \"]"
   ]
  },
  {
   "cell_type": "code",
   "execution_count": null,
   "id": "a0be8213",
   "metadata": {},
   "outputs": [],
   "source": [
    "\n",
    "\n",
    "\n"
   ]
  },
  {
   "cell_type": "markdown",
   "id": "b0bb918f",
   "metadata": {},
   "source": [
    "### Adding Values to list\n",
    "The append operation allows new elements to be added to the list\n",
    "##### Example: \n",
    "- myList = [0,1,2]\n",
    "- myList.append(3)\n",
    "- myList.append(4)"
   ]
  },
  {
   "cell_type": "code",
   "execution_count": null,
   "id": "73daed52",
   "metadata": {},
   "outputs": [],
   "source": [
    "\n",
    "\n",
    "\n"
   ]
  },
  {
   "cell_type": "markdown",
   "id": "b5e9340c",
   "metadata": {},
   "source": [
    "### Removing Values from list\n",
    "The pop operation allows elements to be removed from the list\n",
    "##### Example: \n",
    "- myList = [0,1,2,3,4]\n",
    "- myList.pop()\n",
    "- myList.pop(1)"
   ]
  },
  {
   "cell_type": "code",
   "execution_count": null,
   "id": "f3477bb8",
   "metadata": {},
   "outputs": [],
   "source": [
    "\n",
    "\n",
    "\n"
   ]
  },
  {
   "cell_type": "markdown",
   "id": "8764eab8",
   "metadata": {},
   "source": [
    "### EXERCISE: Indexing Lists\n",
    "Can you make the list say [\"Programming\", \"is\", \"super\", \"easy\"] using appends and pops?\n",
    "\n",
    "message = [\"Programming\", \"is\", \"extremely\", \"hard\"]"
   ]
  },
  {
   "cell_type": "code",
   "execution_count": null,
   "id": "913eb9e0",
   "metadata": {},
   "outputs": [],
   "source": [
    "\n",
    "\n",
    "\n"
   ]
  },
  {
   "cell_type": "markdown",
   "id": "0cabbe31",
   "metadata": {},
   "source": [
    "### Changing values in List\n",
    "Reassigning indexed values in a list allows you to change the values stored at different positions in the list\n",
    "##### Example: \n",
    "- myList = [0,1,2,3,4]\n",
    "- myList[0] = 4\n",
    "- myList[2] = 5\n",
    "- myList[-1] = 0"
   ]
  },
  {
   "cell_type": "code",
   "execution_count": null,
   "id": "c166d1e8",
   "metadata": {},
   "outputs": [],
   "source": [
    "\n",
    "\n",
    "\n"
   ]
  },
  {
   "cell_type": "markdown",
   "id": "70812152",
   "metadata": {},
   "source": [
    "### EXERCISE: Changing List Values\n",
    "Can you make the list say [\"Programming\", \"is\", \"not\", \"actually\", \"hard\"] by replacing the values using indexing?\n",
    "\n",
    "message = [\"Coding\", \"is\", \"actually\", \"really\", \"hard\"]"
   ]
  },
  {
   "cell_type": "code",
   "execution_count": null,
   "id": "ff1feb52",
   "metadata": {},
   "outputs": [],
   "source": [
    "\n",
    "\n",
    "\n"
   ]
  },
  {
   "cell_type": "markdown",
   "id": "a8a53282-aa19-4c69-a016-c92a0383b0dd",
   "metadata": {},
   "source": [
    "# 4. Dictionaries"
   ]
  },
  {
   "cell_type": "markdown",
   "id": "234a90ea",
   "metadata": {},
   "source": [
    "### Defining Dictionaries\n",
    "Dictionaries are ways of storing data using key-value pairs.\n",
    "##### Example: \n",
    "- myDict = {\"name\": \"Tom\", \"age\": 27, \"coding expert\": False}\n",
    "- myDict = dict(name = \"tom\", age = 27, coding_expert = False)"
   ]
  },
  {
   "cell_type": "code",
   "execution_count": null,
   "id": "e11f13bd",
   "metadata": {},
   "outputs": [],
   "source": [
    "\n",
    "\n",
    "\n"
   ]
  },
  {
   "cell_type": "markdown",
   "id": "4ba9d185",
   "metadata": {},
   "source": [
    "### Referencing Values in Dictionary\n",
    "Unlike indexing lists, dictionaries return individual elements by referencing the key associated with the value\n",
    "##### Example: \n",
    "- myDict = {\"name\": \"Tom\", \"age\": 27, \"coding expert\": False}\n",
    "- myDict[\"name\"]\n",
    "- myDict[\"coding expert\"]"
   ]
  },
  {
   "cell_type": "code",
   "execution_count": null,
   "id": "9fa14bbe",
   "metadata": {},
   "outputs": [],
   "source": [
    "\n",
    "\n",
    "\n"
   ]
  },
  {
   "cell_type": "markdown",
   "id": "1d1a00c0",
   "metadata": {},
   "source": [
    "### EXERCISE: Referencing Dictionaries\n",
    "Can you print \"Programming is not actually that hard\" by referencing the dictionary below?\n",
    "\n",
    "message = {\"word1\": \"is\", \"word2\": \"actually\", \"word3\": \"Programming\", \"word4\": \"hard\", \"word5\": \"that\", \"word6\": \"not\"}"
   ]
  },
  {
   "cell_type": "code",
   "execution_count": null,
   "id": "10d40250",
   "metadata": {},
   "outputs": [],
   "source": [
    "\n",
    "\n",
    "\n"
   ]
  },
  {
   "cell_type": "markdown",
   "id": "3674331f",
   "metadata": {},
   "source": [
    "### Adding Values to Dictionary\n",
    "Assigning a new key in a dictionary will add the key-value pair\n",
    "##### Example: \n",
    "- myDict = {\"name\": \"Tom\", \"age\": 27, \"coding expert\": False}\n",
    "- myDict[\"degree\"] = \"Computer Science\""
   ]
  },
  {
   "cell_type": "code",
   "execution_count": null,
   "id": "8075b0e6",
   "metadata": {},
   "outputs": [],
   "source": [
    "\n",
    "\n",
    "\n"
   ]
  },
  {
   "cell_type": "markdown",
   "id": "3d83e105",
   "metadata": {},
   "source": [
    "### Removing Values to Dictionary\n",
    "Removing values from a dictionary uses the pop function like lists but requires a key value to pop\n",
    "##### Example: \n",
    "- myDict = {\"name\": \"Tom\", \"age\": 27, \"coding expert\": False, \"degree\": \"Computer Science\"}\n",
    "- myDict.pop(\"degree\")"
   ]
  },
  {
   "cell_type": "code",
   "execution_count": null,
   "id": "10e9309f",
   "metadata": {},
   "outputs": [],
   "source": [
    "\n",
    "\n",
    "\n"
   ]
  },
  {
   "cell_type": "markdown",
   "id": "0f6cb9f2",
   "metadata": {},
   "source": [
    "### Changing Values in Dictionary\n",
    "Reassign a key to a new value will change the value stored in the dictionary\n",
    "##### Example: \n",
    "- myDict = {\"name\": \"Tom\", \"age\": 27, \"coding expert\": False, \"degree\": \"Computer Science\"}\n",
    "- myDict[\"coding expert\"] = True"
   ]
  },
  {
   "cell_type": "code",
   "execution_count": null,
   "id": "4c0e3803",
   "metadata": {},
   "outputs": [],
   "source": [
    "\n",
    "\n",
    "\n"
   ]
  },
  {
   "cell_type": "markdown",
   "id": "495618c9",
   "metadata": {},
   "source": [
    "### EXERCISE: Referencing Dictionaries\n",
    "Can you change the dictionary below to match your information?\n",
    "\n",
    "myDict = {\"name\": \"Tom\", \"age\": 27, \"coding expert\": False, \"degree\": \"Computer Science\"}"
   ]
  },
  {
   "cell_type": "code",
   "execution_count": null,
   "id": "141f0b43",
   "metadata": {},
   "outputs": [],
   "source": [
    "\n",
    "\n",
    "\n"
   ]
  }
 ],
 "metadata": {
  "kernelspec": {
   "display_name": "Python 3 (ipykernel)",
   "language": "python",
   "name": "python3"
  },
  "language_info": {
   "codemirror_mode": {
    "name": "ipython",
    "version": 3
   },
   "file_extension": ".py",
   "mimetype": "text/x-python",
   "name": "python",
   "nbconvert_exporter": "python",
   "pygments_lexer": "ipython3",
   "version": "3.9.12"
  }
 },
 "nbformat": 4,
 "nbformat_minor": 5
}
