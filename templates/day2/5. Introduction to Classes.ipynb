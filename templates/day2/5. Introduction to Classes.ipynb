{
 "cells": [
  {
   "cell_type": "markdown",
   "id": "a38ce6ad",
   "metadata": {},
   "source": [
    "# 1. Classes"
   ]
  },
  {
   "cell_type": "markdown",
   "id": "9853a423",
   "metadata": {},
   "source": [
    "### Defining Classes\n",
    "Classes are an object type used to store variables and functions together. A class can be used as a template to store information for multiple items\n",
    "\n",
    "##### Examples:\n",
    "```\n",
    "class Student():\n",
    "    firstName = \"Tom\"\n",
    "    lastName = \"White\"\n",
    "    year = \"Freshman\"\n",
    "```"
   ]
  },
  {
   "cell_type": "code",
   "execution_count": null,
   "id": "9db4ba69",
   "metadata": {},
   "outputs": [],
   "source": [
    "\n",
    "\n",
    "\n"
   ]
  },
  {
   "cell_type": "markdown",
   "id": "885604b4",
   "metadata": {},
   "source": [
    "### init Function\n",
    "The init function is used to set initialize a class with user inputted values for variables\n",
    "\n",
    "##### Examples:\n",
    "```\n",
    "class Student():\n",
    "    school = \"UND\"\n",
    "    def __init__(self, firstName, lastName, year):\n",
    "        self.firstName = firstName\n",
    "        self.lastName = lastName\n",
    "        self.year = year\n",
    "```"
   ]
  },
  {
   "cell_type": "code",
   "execution_count": null,
   "id": "778709a3",
   "metadata": {},
   "outputs": [],
   "source": [
    "\n",
    "\n",
    "\n"
   ]
  },
  {
   "cell_type": "markdown",
   "id": "d319a820",
   "metadata": {},
   "source": [
    "### Changing Values in Classes\n",
    "Values can be changed in a declared class by reassigning the classes variable\n",
    "\n",
    "##### Examples:\n",
    "```\n",
    "class Student():\n",
    "\n",
    "    school = \"UND\"\n",
    "    \n",
    "    def __init__(self, firstName, lastName, year):\n",
    "        self.firstName = firstName\n",
    "        self.lastName = lastName\n",
    "        self.year = year\n",
    "        \n",
    "me.year = \"Senior\"\n",
    "```"
   ]
  },
  {
   "cell_type": "code",
   "execution_count": null,
   "id": "687714ca",
   "metadata": {},
   "outputs": [],
   "source": [
    "\n",
    "\n",
    "\n"
   ]
  },
  {
   "cell_type": "markdown",
   "id": "67fe4de7",
   "metadata": {},
   "source": [
    "### Defining Functions in Classes\n",
    "Values can be changed in a declared class by reassigning the classes variable\n",
    "\n",
    "##### Examples:\n",
    "```\n",
    "class Student():\n",
    "\n",
    "    def __init__(self, firstName, lastName):\n",
    "        self.firstName = firstName\n",
    "        self.lastName = lastName\n",
    "        \n",
    "    def printName(self):\n",
    "        print(self.firstName + \" \" + self.lastName)\n",
    "```"
   ]
  },
  {
   "cell_type": "code",
   "execution_count": null,
   "id": "511c89f7",
   "metadata": {},
   "outputs": [],
   "source": [
    "\n",
    "\n",
    "\n"
   ]
  },
  {
   "cell_type": "markdown",
   "id": "c1cf8c18",
   "metadata": {},
   "source": [
    "### Initializing with Functions\n",
    "Functions can be used in the init function to initialize variables\n",
    "\n",
    "##### Examples:\n",
    "```\n",
    "class Student():\n",
    "\n",
    "    def __init__(self, firstName, lastName):\n",
    "        self.firstName = firstName\n",
    "        self.lastName = lastName\n",
    "        self.fullName = self.combineName()\n",
    "        \n",
    "    def combineName(self):\n",
    "        return self.firstName + \" \" + self.lastName\n",
    "```"
   ]
  },
  {
   "cell_type": "code",
   "execution_count": null,
   "id": "9ee1f784",
   "metadata": {},
   "outputs": [],
   "source": [
    "\n",
    "\n",
    "\n"
   ]
  },
  {
   "cell_type": "markdown",
   "id": "0430ef00",
   "metadata": {},
   "source": [
    "# 2. Putting it Together"
   ]
  },
  {
   "cell_type": "markdown",
   "id": "dac1365d",
   "metadata": {},
   "source": [
    "### EXERCISE: Airmen Records\n",
    "Create a class to hold airmen records including:\n",
    "- ###### Variables:\n",
    "    <br>\n",
    "    1. first name => input to __init__\n",
    "    <br>\n",
    "    2. last name => input to __init__\n",
    "    <br>\n",
    "    3. rank => input to __init__\n",
    "    <br>\n",
    "    4. spouse name => default to empty string\n",
    "    <br>\n",
    "    5. DoDID Number => run GenID function (see below)\n",
    "    <br>\n",
    "    6. FullName => run CombineName function (see below)\n",
    "    <br>\n",
    "    <br>\n",
    "- ###### Functions:\n",
    "    <br>\n",
    "    1. CombineName => accepts first and last, returns combined name as \"first last\"\n",
    "    <br>\n",
    "    2. UpdateSpouse => accepts first and last name. Assigned spouse name to \"first last\" using CombineName function\n",
    "    <br>\n",
    "    3. GenID => use random.randint() to return a 5 digit-random ID number\n",
    "    <br>\n",
    "    4. PrintInfo => prints all user information to the screen"
   ]
  },
  {
   "cell_type": "code",
   "execution_count": null,
   "id": "5c03a17b",
   "metadata": {},
   "outputs": [],
   "source": [
    "\n",
    "\n",
    "\n"
   ]
  }
 ],
 "metadata": {
  "kernelspec": {
   "display_name": "Python 3 (ipykernel)",
   "language": "python",
   "name": "python3"
  },
  "language_info": {
   "codemirror_mode": {
    "name": "ipython",
    "version": 3
   },
   "file_extension": ".py",
   "mimetype": "text/x-python",
   "name": "python",
   "nbconvert_exporter": "python",
   "pygments_lexer": "ipython3",
   "version": "3.9.12"
  }
 },
 "nbformat": 4,
 "nbformat_minor": 5
}
