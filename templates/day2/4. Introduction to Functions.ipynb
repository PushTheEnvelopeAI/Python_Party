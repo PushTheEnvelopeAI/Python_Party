{
 "cells": [
  {
   "cell_type": "markdown",
   "id": "230a36e6",
   "metadata": {},
   "source": [
    "# 1. Functions"
   ]
  },
  {
   "cell_type": "markdown",
   "id": "47435351",
   "metadata": {},
   "source": [
    "### Defining Function\n",
    "Functions are used to house repeatable code that you can call anywhere in your code\n",
    "\n",
    "##### Example:\n",
    "```\n",
    "def myFunction():\n",
    "    print(\"Hello World\")\n",
    "\n",
    "\n",
    "def myFunction2():\n",
    "    print(20 * 30)\n",
    "```"
   ]
  },
  {
   "cell_type": "code",
   "execution_count": null,
   "id": "63e6685f",
   "metadata": {},
   "outputs": [],
   "source": [
    "\n",
    "\n",
    "\n"
   ]
  },
  {
   "cell_type": "markdown",
   "id": "5db28bd3",
   "metadata": {},
   "source": [
    "### Input Variables\n",
    "Input variables allow you to pass values into the function and be used to help execute the function's logic\n",
    "\n",
    "##### Example:\n",
    "```\n",
    "def printGreeting(name):\n",
    "    print(\"Hello,\", name)\n",
    "\n",
    "\n",
    "def findSum(x1, x2):\n",
    "    print(x1 * x2)\n",
    "```"
   ]
  },
  {
   "cell_type": "code",
   "execution_count": null,
   "id": "0498a597",
   "metadata": {},
   "outputs": [],
   "source": [
    "\n",
    "\n",
    "\n"
   ]
  },
  {
   "cell_type": "markdown",
   "id": "f92b9af7",
   "metadata": {},
   "source": [
    "### Output Variables\n",
    "Output variables allow you to return a value back to the main code \n",
    "\n",
    "##### Example:\n",
    "```\n",
    "def GetGreeting(name):\n",
    "    return \"Your Name is \" + name\n",
    "\n",
    "\n",
    "def FindProduct(x1, x2):\n",
    "    result = x1 * x2\n",
    "    return result\n",
    "```"
   ]
  },
  {
   "cell_type": "code",
   "execution_count": null,
   "id": "dd9f1255",
   "metadata": {},
   "outputs": [],
   "source": [
    "\n",
    "\n",
    "\n"
   ]
  },
  {
   "cell_type": "markdown",
   "id": "993319c9",
   "metadata": {},
   "source": [
    "### Multiple-Output Conditions\n",
    "Using IF statements within a function allow for multiple possible return values\n",
    "\n",
    "##### Example:\n",
    "```\n",
    "def GetGreeting(name, timeOfDay):\n",
    "    if timeOfDay == \"Morning\":\n",
    "        return \"Good Morning, \" + name\n",
    "    else:\n",
    "        return \"Good Afternoon, \" + name\n",
    "\n",
    "\n",
    "def FindMax(x1, x2):\n",
    "    if x1 > x2:\n",
    "        return x1\n",
    "    else:\n",
    "        return x2\n",
    "```"
   ]
  },
  {
   "cell_type": "code",
   "execution_count": null,
   "id": "3e720a15",
   "metadata": {},
   "outputs": [],
   "source": [
    "\n",
    "\n",
    "\n"
   ]
  },
  {
   "cell_type": "markdown",
   "id": "9dac7276",
   "metadata": {},
   "source": [
    "### Calling Function within Functions\n",
    "Functions can be called within other functions to increase the complexity of logic in the main function\n",
    "\n",
    "##### Examples:\n",
    "```\n",
    "def GetTimeOfDay(time):\n",
    "    if time < 1200:\n",
    "        return \"Morning\"\n",
    "    else:\n",
    "        return \"Afternoon\"\n",
    "\n",
    "\n",
    "def PrintGreeting(name, time):\n",
    "    timeOfDay = GetTimeOfDay(time)\n",
    "    greeting = \"Good \" + timeOfDay + \", \" + name\n",
    "    return greeting\n",
    "```"
   ]
  },
  {
   "cell_type": "code",
   "execution_count": null,
   "id": "42d8d21b",
   "metadata": {},
   "outputs": [],
   "source": [
    "\n",
    "\n",
    "\n"
   ]
  },
  {
   "cell_type": "markdown",
   "id": "b45dc819",
   "metadata": {},
   "source": [
    "# 2. Putting it all Together"
   ]
  },
  {
   "cell_type": "markdown",
   "id": "abdfad3a",
   "metadata": {},
   "source": [
    "## REPORTING FOR DUTY\n",
    "### Return a statement that a given airmen is reporting for duty\n",
    "- #### **Input**: name (last, first, rank)\n",
    "- #### **Output**: name (rank first last)\n",
    "    - #### Step 1: reorder name \n",
    "    - #### Step 2: print statement \"{name} reporting for duty!\""
   ]
  },
  {
   "cell_type": "code",
   "execution_count": null,
   "id": "d3fe7344",
   "metadata": {},
   "outputs": [],
   "source": [
    "\n",
    "\n",
    "\n"
   ]
  },
  {
   "cell_type": "markdown",
   "id": "229fdd49",
   "metadata": {},
   "source": [
    "## CAN I VOTE?\n",
    "### Determine whether a given person meets the age requirement (18+) to vote\n",
    "- #### **Input**: Age\n",
    "- #### **Output**: True (*can vote*) or False (*cant vote*)"
   ]
  },
  {
   "cell_type": "code",
   "execution_count": null,
   "id": "052b6f3d",
   "metadata": {},
   "outputs": [],
   "source": [
    "\n",
    "\n",
    "\n"
   ]
  },
  {
   "cell_type": "markdown",
   "id": "1767b1a3",
   "metadata": {},
   "source": [
    "## AGREE OR DISAGREE?\n",
    "### Determine whether two people agree or disagree with a statement \n",
    "- #### **Input**: two strings\n",
    "- #### **Output**: \"You Agree!\" (*match*) or \"You Disagree!\" (*not match*)"
   ]
  },
  {
   "cell_type": "code",
   "execution_count": null,
   "id": "24d746c0",
   "metadata": {},
   "outputs": [],
   "source": [
    "\n",
    "\n",
    "\n"
   ]
  },
  {
   "cell_type": "markdown",
   "id": "9a9c16bf",
   "metadata": {},
   "source": [
    "## TIP CALCULATOR\n",
    "### Calculate the tip for a given bill based on the level of service\n",
    "- #### **Input**: \n",
    "    - #### bill amount\n",
    "    - #### service level\n",
    "- #### **Output**: \n",
    "    - #### Step 1: determine tip percent from level of service\n",
    "    - #### Step 2: return bill amount * tip percent\n",
    "        - #### \"Bad\": 10%\n",
    "        - #### \"Okay\": 15%\n",
    "        - #### \"Good\": 18%\n",
    "        - #### \"Great\": 22%"
   ]
  },
  {
   "cell_type": "code",
   "execution_count": null,
   "id": "04828df4",
   "metadata": {},
   "outputs": [],
   "source": [
    "\n",
    "\n",
    "\n"
   ]
  },
  {
   "cell_type": "markdown",
   "id": "e41c75d7",
   "metadata": {},
   "source": [
    "## LIFE PHASES\n",
    "### Determine what phase in life a person is given their age\n",
    "- #### **Input**: age\n",
    "- #### **Output**: \n",
    "    - #### 0-3: \"Baby\"\n",
    "    - #### 4-12: \"Child\"\n",
    "    - #### 13-19: \"Teen\"\n",
    "    - #### 20-64: \"Adult\"\n",
    "    - #### 65-130: \"Senior Citizen\"\n",
    "    - #### <0 or >130: \"Invalid Age Entered\""
   ]
  },
  {
   "cell_type": "code",
   "execution_count": null,
   "id": "327da199",
   "metadata": {},
   "outputs": [],
   "source": [
    "\n",
    "\n",
    "\n"
   ]
  },
  {
   "cell_type": "markdown",
   "id": "ecfe7fbd",
   "metadata": {},
   "source": [
    "## FINAL GRADE\n",
    "### Determine what letter grade a student recieves given 3 grades\n",
    "- #### **Input**: 3 grades\n",
    "- #### **Output**: \n",
    "    - #### Step 1: Find the average grade\n",
    "    - #### Step 2: Convert to letter grade\n",
    "        - #### 0-59: \"F\"\n",
    "        - #### 60-69: \"D\"\n",
    "        - #### 70-79: \"C\"\n",
    "        - #### 80-89: \"B\"\n",
    "        - #### 90-100: \"A\"\n",
    "- #### **Other**: any grade <0 or >100  ==>  \"You Entered an Invalid Grade\""
   ]
  },
  {
   "cell_type": "code",
   "execution_count": null,
   "id": "d9cff170",
   "metadata": {},
   "outputs": [],
   "source": [
    "\n",
    "\n",
    "\n"
   ]
  },
  {
   "cell_type": "markdown",
   "id": "c61742e0",
   "metadata": {},
   "source": [
    "## DICE ROLL\n",
    "### Random generate two dice rolls and return the sum\n",
    "- #### **Input**: None\n",
    "- #### **Output**: \n",
    "    - #### Step 1: Roll two 6-sided die (random number generator)\n",
    "    - #### Step 2: Return the sum"
   ]
  },
  {
   "cell_type": "code",
   "execution_count": null,
   "id": "da346f09",
   "metadata": {},
   "outputs": [],
   "source": [
    "\n",
    "\n",
    "\n"
   ]
  },
  {
   "cell_type": "markdown",
   "id": "8be1fb50",
   "metadata": {},
   "source": [
    "## MAGIC 8 BALL\n",
    "### Return a \"Magic 8-ball\" answer for a given question\n",
    "- #### **Input**: Question (string)\n",
    "- #### **Output**: \n",
    "    - #### Step 1: print question\n",
    "    - #### Step 2: randomly return 1 of 8 answers (random number generator)\n",
    "        - #### 0: \"It is certain\"\n",
    "        - #### 1: \"It is decidedly so\"\n",
    "        - #### 2: \"Cannot predict now\"\n",
    "        - #### 3: \"Do not count on it\"\n",
    "        - #### 4: \"My sources say no\"\n",
    "        - #### 5: \"Outlook not so good\"\n",
    "        - #### 6: \"Reply hazy. Try again\"\n",
    "        - #### 7: \"Signs point to yes\""
   ]
  },
  {
   "cell_type": "code",
   "execution_count": null,
   "id": "dc9ec55d",
   "metadata": {},
   "outputs": [],
   "source": [
    "\n",
    "\n",
    "\n"
   ]
  },
  {
   "cell_type": "markdown",
   "id": "fe846f97",
   "metadata": {},
   "source": [
    "## INTERPLANETARY WEIGHT\n",
    "### Return a persons weight on a given planet\n",
    "- #### **Input**: \n",
    "    - #### earth weight\n",
    "    - #### planet name\n",
    "- #### **Output**: \n",
    "    - #### Step 1: print earth weight\n",
    "    - #### Step 2: return earth weight * planet factor\n",
    "        - #### \"Mercury\": 0.378\n",
    "        - #### \"Venus\": 0.907\n",
    "        - #### \"Mars\": 0.377\n",
    "        - #### \"Jupiter\": 2.36\n",
    "        - #### \"Saturn\": 0.916\n",
    "- #### **Other**: Return \"Invalid planet\" if planet not listed"
   ]
  },
  {
   "cell_type": "code",
   "execution_count": null,
   "id": "69d0451b",
   "metadata": {},
   "outputs": [],
   "source": [
    "\n",
    "\n",
    "\n"
   ]
  }
 ],
 "metadata": {
  "kernelspec": {
   "display_name": "Python 3 (ipykernel)",
   "language": "python",
   "name": "python3"
  },
  "language_info": {
   "codemirror_mode": {
    "name": "ipython",
    "version": 3
   },
   "file_extension": ".py",
   "mimetype": "text/x-python",
   "name": "python",
   "nbconvert_exporter": "python",
   "pygments_lexer": "ipython3",
   "version": "3.9.12"
  }
 },
 "nbformat": 4,
 "nbformat_minor": 5
}
