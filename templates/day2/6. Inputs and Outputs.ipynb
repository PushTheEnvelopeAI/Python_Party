{
 "cells": [
  {
   "cell_type": "markdown",
   "id": "b28727f9",
   "metadata": {},
   "source": [
    "# 1. User Input"
   ]
  },
  {
   "cell_type": "markdown",
   "id": "8243cd7b",
   "metadata": {},
   "source": [
    "### Requesting an Input Value\n",
    "The input function allows you to request information from the user and store it as a variable\n",
    "\n",
    "##### Examples:\n",
    "```\n",
    "name = input(\"What is your Name?\")\n",
    "age = input(\"Input your age in years:\")\n",
    "```"
   ]
  },
  {
   "cell_type": "code",
   "execution_count": null,
   "id": "7b5d3a90",
   "metadata": {},
   "outputs": [],
   "source": [
    "\n",
    "\n",
    "\n"
   ]
  },
  {
   "cell_type": "markdown",
   "id": "e255bb32",
   "metadata": {},
   "source": [
    "### Gratuity Calculator\n",
    "Can you create a calculator that asks the user for the bill amount and the tip percentage and returns the total amount to tip?\n",
    "\n",
    "_hint: remember input returns the values as strings so you will need to conver the values to floats_"
   ]
  },
  {
   "cell_type": "code",
   "execution_count": null,
   "id": "cbba8924",
   "metadata": {},
   "outputs": [],
   "source": [
    "\n",
    "\n",
    "\n"
   ]
  },
  {
   "cell_type": "markdown",
   "id": "fe3ee2cb",
   "metadata": {},
   "source": [
    "# 2. Reading Files"
   ]
  },
  {
   "cell_type": "markdown",
   "id": "7e544c11",
   "metadata": {},
   "source": [
    "### Reading Text Files\n",
    "The open functions and read functions allow for python scripts to read from files\n",
    "\n",
    "##### Examples:\n",
    "```\n",
    "file = open(\"files/list_of_names.txt\")\n",
    "lines = file.read()\n",
    "file.close()\n",
    "```"
   ]
  },
  {
   "cell_type": "code",
   "execution_count": null,
   "id": "ad249909",
   "metadata": {},
   "outputs": [],
   "source": [
    "\n",
    "\n",
    "\n"
   ]
  },
  {
   "cell_type": "markdown",
   "id": "9ef52b0b",
   "metadata": {},
   "source": [
    "### Reading One Line\n",
    "The readline function allows you to read one line from a file at a time\n",
    "\n",
    "##### Examples:\n",
    "```\n",
    "file = open(\"files/list_of_names.txt\")\n",
    "line = file.readline()\n",
    "file.close()\n",
    "```"
   ]
  },
  {
   "cell_type": "code",
   "execution_count": null,
   "id": "55c7228e",
   "metadata": {},
   "outputs": [],
   "source": [
    "\n",
    "\n",
    "\n"
   ]
  },
  {
   "cell_type": "markdown",
   "id": "66c7ef45",
   "metadata": {},
   "source": [
    "### Reading All Lines\n",
    "The readlines function allows you to read all of the lines in the files at once and store them within a list\n",
    "\n",
    "##### Examples:\n",
    "```\n",
    "file = open(\"files/list_of_names.txt\")\n",
    "lines = file.readlines()\n",
    "file.close()\n",
    "```"
   ]
  },
  {
   "cell_type": "code",
   "execution_count": null,
   "id": "97fe49e7",
   "metadata": {},
   "outputs": [],
   "source": [
    "\n",
    "\n",
    "\n"
   ]
  },
  {
   "cell_type": "markdown",
   "id": "86d74741",
   "metadata": {},
   "source": [
    "### Putting it all Together\n",
    "The following method is typically how files are read; however, this is not the only way it can be done\n",
    "\n",
    "##### Examples:\n",
    "```\n",
    "with open(\"files/list_of_names.txt\") as f:\n",
    "    for line in f.readlines():\n",
    "        print(line)\n",
    "```"
   ]
  },
  {
   "cell_type": "code",
   "execution_count": null,
   "id": "eda70ed8",
   "metadata": {},
   "outputs": [],
   "source": [
    "\n",
    "\n",
    "\n"
   ]
  },
  {
   "cell_type": "markdown",
   "id": "bb6edcd9",
   "metadata": {},
   "source": [
    "### Replacing Special Characters\n",
    "Special characters are formatting symbols used to identify things like tabs and new lines. The string replace function allows us to replace the characters for readability.\n",
    "\n",
    "##### Examples:\n",
    "```\n",
    "with open(\"files/list_of_names.txt\") as f:\n",
    "    for line in f.readlines():\n",
    "        newLine = line.replace(\"\\n\", \"\").replace(\"\\t\", \"\")\n",
    "        print(newLine)\n",
    "```"
   ]
  },
  {
   "cell_type": "code",
   "execution_count": null,
   "id": "32d8159c",
   "metadata": {},
   "outputs": [],
   "source": [
    "\n",
    "\n",
    "\n"
   ]
  },
  {
   "cell_type": "markdown",
   "id": "7b099b8d",
   "metadata": {},
   "source": [
    "### Splitting Strings\n",
    "Some files, like .csv or .tsv, store values separated by commas, tabs or other symbols. The split function allows us to split the line into multiple parts based on a separator.\n",
    "\n",
    "##### Examples:\n",
    "```\n",
    "with open(\"files/list_of_names.txt\") as f:\n",
    "    for line in f.readlines():\n",
    "        newLine = line.replace(\"\\n\", \"\").replace(\"\\t\", \"\")\n",
    "        last, first = newLine.split(\", \")\n",
    "        print(first, last)\n",
    "```"
   ]
  },
  {
   "cell_type": "code",
   "execution_count": null,
   "id": "02cdb125",
   "metadata": {},
   "outputs": [],
   "source": [
    "\n",
    "\n",
    "\n"
   ]
  },
  {
   "cell_type": "markdown",
   "id": "41351851",
   "metadata": {},
   "source": [
    "### EXERCISE: Creating Lists from Files\n",
    "Can you read the list_of_names.txt file and store first and last names into two arrays? \n",
    "\n",
    "*hint: remember the list function append*"
   ]
  },
  {
   "cell_type": "code",
   "execution_count": null,
   "id": "32ea5f39",
   "metadata": {},
   "outputs": [],
   "source": [
    "\n",
    "\n",
    "\n"
   ]
  },
  {
   "cell_type": "markdown",
   "id": "51e52d32",
   "metadata": {},
   "source": [
    "### EXERCISE: Creating Lists from Files (part II)\n",
    "Can you read in the files from list_of_names2.txt (note the file name difference) and store the full name as a list?\n",
    "\n",
    "*hint: look at how the names are separated*"
   ]
  },
  {
   "cell_type": "code",
   "execution_count": null,
   "id": "34787385",
   "metadata": {},
   "outputs": [],
   "source": [
    "\n",
    "\n",
    "\n"
   ]
  },
  {
   "cell_type": "markdown",
   "id": "03f8d839",
   "metadata": {},
   "source": [
    "# 3. Writing Files"
   ]
  },
  {
   "cell_type": "markdown",
   "id": "200a974c",
   "metadata": {},
   "source": [
    "### Writing Variable to File\n",
    "The write method allows you to right variables to a file\n",
    "\n",
    "##### Examples:\n",
    "```\n",
    "file = open(\"files/practice_write.txt\", \"w\")\n",
    "file.write(\"Hello World\")\n",
    "file.close()\n",
    "```"
   ]
  },
  {
   "cell_type": "code",
   "execution_count": null,
   "id": "e70fd956",
   "metadata": {},
   "outputs": [],
   "source": [
    "\n",
    "\n",
    "\n"
   ]
  },
  {
   "cell_type": "markdown",
   "id": "5d1b681c",
   "metadata": {},
   "source": [
    "### Writing Multiple Lines to File\n",
    "The write method allows you to right variables to a file\n",
    "\n",
    "##### Examples:\n",
    "```\n",
    "with open(\"files/practice_write.txt\", \"w\") as f:\n",
    "    for name in names:\n",
    "        f.write(name+\"\\n\")\n",
    "```"
   ]
  },
  {
   "cell_type": "code",
   "execution_count": null,
   "id": "149bad41",
   "metadata": {},
   "outputs": [],
   "source": [
    "\n",
    "\n",
    "\n"
   ]
  },
  {
   "cell_type": "markdown",
   "id": "b9d976bf",
   "metadata": {},
   "source": [
    "### EXERCISE: Writing Names to File\n",
    "Can you read the names from list_of_names.txt and write them to a new file in the proper order (first name)?"
   ]
  },
  {
   "cell_type": "code",
   "execution_count": null,
   "id": "0bfac73b",
   "metadata": {},
   "outputs": [],
   "source": [
    "\n",
    "\n",
    "\n"
   ]
  },
  {
   "cell_type": "markdown",
   "id": "6127e2ee",
   "metadata": {},
   "source": [
    "# 4. Putting it All Together"
   ]
  },
  {
   "cell_type": "markdown",
   "id": "70867dde",
   "metadata": {},
   "source": [
    "### EXERCISE: Stock Market Account\n",
    "Can you read the stock and daily change from a file to determine how much money an account made?\n",
    "\n",
    "- step 1: read the stock names and dollar amount changes from the file stock_market.txt\n",
    "\n",
    "- step 2: for each stock in the file, ask the user for the number of shares they own of that stock\n",
    "\n",
    "- step 3: calculate how much money the stock made by multiplying the number of share times the dollar amount change\n",
    "\n",
    "- step 4: write the stock name, number of shares and amount gained/lost separated by commas to a new file called my_account.txt\n",
    "\n",
    "- step 5: write the total number of shares owned of all stock and the final account win/loss for the day to the file"
   ]
  },
  {
   "cell_type": "code",
   "execution_count": null,
   "id": "4604f0eb",
   "metadata": {},
   "outputs": [],
   "source": [
    "\n",
    "\n",
    "\n"
   ]
  }
 ],
 "metadata": {
  "kernelspec": {
   "display_name": "Python 3 (ipykernel)",
   "language": "python",
   "name": "python3"
  },
  "language_info": {
   "codemirror_mode": {
    "name": "ipython",
    "version": 3
   },
   "file_extension": ".py",
   "mimetype": "text/x-python",
   "name": "python",
   "nbconvert_exporter": "python",
   "pygments_lexer": "ipython3",
   "version": "3.9.12"
  }
 },
 "nbformat": 4,
 "nbformat_minor": 5
}
