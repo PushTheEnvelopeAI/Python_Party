{
 "cells": [
  {
   "cell_type": "markdown",
   "id": "cf6c443a",
   "metadata": {},
   "source": [
    "# 1. Functions"
   ]
  },
  {
   "cell_type": "markdown",
   "id": "e80b2ffd",
   "metadata": {},
   "source": [
    "### Defining Functions\n",
    "Can you make a function that print \"Thank you for shopping with us!\" everytime it is called?"
   ]
  },
  {
   "cell_type": "code",
   "execution_count": null,
   "id": "fab7bac8",
   "metadata": {},
   "outputs": [],
   "source": [
    "\n",
    "\n",
    "\n"
   ]
  },
  {
   "cell_type": "markdown",
   "id": "bb99a2ce",
   "metadata": {},
   "source": [
    "### Function Inputs\n",
    "Can you make a function that accepts a persons name and prints \"Thank you for shopping with us, {name}!\" when it is called? "
   ]
  },
  {
   "cell_type": "code",
   "execution_count": null,
   "id": "00f82fe4",
   "metadata": {},
   "outputs": [],
   "source": [
    "\n",
    "\n",
    "\n"
   ]
  },
  {
   "cell_type": "markdown",
   "id": "4458f714",
   "metadata": {},
   "source": [
    "### Function Outputs\n",
    "Can you make a function that accepts a number of items, the price for each, and a name and prints \"Thank you for shopping with us, {name}!\" and returns the total to main?"
   ]
  },
  {
   "cell_type": "code",
   "execution_count": null,
   "id": "3cc250c3",
   "metadata": {},
   "outputs": [],
   "source": [
    "\n",
    "\n",
    "\n"
   ]
  },
  {
   "cell_type": "markdown",
   "id": "6bc9dd24",
   "metadata": {},
   "source": [
    "# 2. Classes"
   ]
  },
  {
   "cell_type": "markdown",
   "id": "5217952f",
   "metadata": {},
   "source": [
    "### Defining Classes\n",
    "Can you define a class that stores the base name (GFAFB) and location (Grand Forks, ND) as variables? \n",
    "\n",
    "*hint: you do not need to use init for this*"
   ]
  },
  {
   "cell_type": "code",
   "execution_count": null,
   "id": "6125b94f",
   "metadata": {},
   "outputs": [],
   "source": [
    "\n",
    "\n",
    "\n"
   ]
  },
  {
   "cell_type": "markdown",
   "id": "3de29a84",
   "metadata": {},
   "source": [
    "### Initializing Classes\n",
    "Can you define a class that initializes with a persons first name, last name and rank and stores it as a variable? "
   ]
  },
  {
   "cell_type": "code",
   "execution_count": null,
   "id": "6cd2d50e",
   "metadata": {},
   "outputs": [],
   "source": [
    "\n",
    "\n",
    "\n"
   ]
  },
  {
   "cell_type": "markdown",
   "id": "dc62ecce",
   "metadata": {},
   "source": [
    "### Functions in Classes\n",
    "Can you make a function that prints out all of the information stored within a class once it is initialized? "
   ]
  },
  {
   "cell_type": "code",
   "execution_count": null,
   "id": "ae7d8837",
   "metadata": {},
   "outputs": [],
   "source": [
    "\n",
    "\n",
    "\n"
   ]
  },
  {
   "cell_type": "markdown",
   "id": "d83c0bfc",
   "metadata": {},
   "source": [
    "# 3. I/O"
   ]
  },
  {
   "cell_type": "markdown",
   "id": "73ea4416",
   "metadata": {},
   "source": [
    "### Getting User Input\n",
    "Can you request a random number from the user and print out whether or not the number is even or odd? \n",
    "\n",
    "*Hint: the modulus operator can be used to figure out whether a value is even or odd*"
   ]
  },
  {
   "cell_type": "code",
   "execution_count": null,
   "id": "a133f273",
   "metadata": {},
   "outputs": [],
   "source": [
    "\n",
    "\n",
    "\n"
   ]
  },
  {
   "cell_type": "markdown",
   "id": "707110b6",
   "metadata": {},
   "source": [
    "### Reading a File\n",
    "Can you read in the scores from scores.txt and print to the screen whether team 1 (left) or team 2 (right) won? "
   ]
  },
  {
   "cell_type": "code",
   "execution_count": null,
   "id": "f2885557",
   "metadata": {},
   "outputs": [],
   "source": [
    "\n",
    "\n",
    "\n"
   ]
  },
  {
   "cell_type": "markdown",
   "id": "2d5e0b67",
   "metadata": {},
   "source": [
    "### Writing a File\n",
    "Can you read in the scores from scores.txt and save the different in scores to a new file? "
   ]
  },
  {
   "cell_type": "code",
   "execution_count": null,
   "id": "1a52c09d",
   "metadata": {},
   "outputs": [],
   "source": [
    "\n",
    "\n",
    "\n"
   ]
  }
 ],
 "metadata": {
  "kernelspec": {
   "display_name": "Python 3 (ipykernel)",
   "language": "python",
   "name": "python3"
  },
  "language_info": {
   "codemirror_mode": {
    "name": "ipython",
    "version": 3
   },
   "file_extension": ".py",
   "mimetype": "text/x-python",
   "name": "python",
   "nbconvert_exporter": "python",
   "pygments_lexer": "ipython3",
   "version": "3.9.12"
  }
 },
 "nbformat": 4,
 "nbformat_minor": 5
}
