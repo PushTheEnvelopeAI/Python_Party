{
 "cells": [
  {
   "cell_type": "markdown",
   "id": "56124553",
   "metadata": {},
   "source": [
    "# 1. Variables"
   ]
  },
  {
   "cell_type": "markdown",
   "id": "36d7b084",
   "metadata": {},
   "source": [
    "### Variable Casting\n",
    "Can you perform the following actions? \n",
    "1. declare x = \"21\"\n",
    "2. convert x to an integer\n",
    "3. add 7 to x\n",
    "4. convert x to float \n",
    "5. convert x to string\n",
    "6. print x\n",
    "7. print the variable type of x"
   ]
  },
  {
   "cell_type": "code",
   "execution_count": null,
   "id": "c75f56c8",
   "metadata": {},
   "outputs": [],
   "source": [
    "\n",
    "\n",
    "\n"
   ]
  },
  {
   "cell_type": "markdown",
   "id": "0b9fcfe8",
   "metadata": {},
   "source": [
    "### Complex Math\n",
    "Can you print out the answer to the equation below? \n",
    "\n",
    "$a=3$\n",
    "<br>\n",
    "$b=6$\n",
    "<br>\n",
    "$c=1$\n",
    "<br>\n",
    "$d=9$\n",
    "<br>\n",
    "\n",
    "$solution = \\dfrac{{a}\\mod{b}}{c * d} - ({a ^ {b + c - d}})$"
   ]
  },
  {
   "cell_type": "code",
   "execution_count": null,
   "id": "e25da487",
   "metadata": {},
   "outputs": [],
   "source": [
    "\n",
    "\n",
    "\n"
   ]
  },
  {
   "cell_type": "markdown",
   "id": "458987a4",
   "metadata": {},
   "source": [
    "### List Indexing\n",
    "Can you print out the list below in ascending order? \n",
    "\n",
    "x = [8, 2, 5, 3, 9, 1, 0, 4, 7, 6]"
   ]
  },
  {
   "cell_type": "code",
   "execution_count": null,
   "id": "42cd0e56",
   "metadata": {},
   "outputs": [],
   "source": [
    "\n",
    "\n",
    "\n"
   ]
  },
  {
   "cell_type": "markdown",
   "id": "fe9e6545",
   "metadata": {},
   "source": [
    "### Dictionary Referencing\n",
    "Can you print out the dictionary in ascending order? \n",
    "\n",
    "```\n",
    "x = {\"letter1\": \"b\", \n",
    "    \"letter2\": \"f\", \n",
    "    \"letter3\": \"a\", \n",
    "    \"letter4\": \"d\", \n",
    "    \"letter5\": \"c\", \n",
    "    \"letter6\": \"e\"}\n",
    "```"
   ]
  },
  {
   "cell_type": "code",
   "execution_count": null,
   "id": "115b65e9",
   "metadata": {},
   "outputs": [],
   "source": [
    "\n",
    "\n",
    "\n"
   ]
  },
  {
   "cell_type": "markdown",
   "id": "073b20ae",
   "metadata": {},
   "source": [
    "# 2. IF Statements"
   ]
  },
  {
   "cell_type": "markdown",
   "id": "29d46ef8",
   "metadata": {},
   "source": [
    "### Basic IF Statements\n",
    "Can you create an IF statement that prints \"POSITIVE\" if a given number is greater than or equal to 0 and \"NEGATIVE\" if it is less than zero?"
   ]
  },
  {
   "cell_type": "code",
   "execution_count": null,
   "id": "d42654cc",
   "metadata": {},
   "outputs": [],
   "source": [
    "\n",
    "\n",
    "\n"
   ]
  },
  {
   "cell_type": "markdown",
   "id": "d32fbb09",
   "metadata": {},
   "source": [
    "### ELIF Statements\n",
    "Can you create an IF/ELIF statement that creates the following logic:\n",
    "   - x < -10: set x = -10\n",
    "   - x > 10: set x = 10\n",
    "   - x = 0: set x = 100000\n",
    "   - all others: dont change x"
   ]
  },
  {
   "cell_type": "code",
   "execution_count": null,
   "id": "2571f46c",
   "metadata": {},
   "outputs": [],
   "source": [
    "\n",
    "\n",
    "\n"
   ]
  },
  {
   "cell_type": "markdown",
   "id": "c12ee560",
   "metadata": {},
   "source": [
    "# 3. Loops"
   ]
  },
  {
   "cell_type": "markdown",
   "id": "88c490a7",
   "metadata": {},
   "source": [
    "### For Looping\n",
    "Can you print out the list below using a for loop?\n",
    "\n",
    "x = [2, 5, 5, 7, 32, 7, 1]"
   ]
  },
  {
   "cell_type": "code",
   "execution_count": null,
   "id": "81f45a67",
   "metadata": {},
   "outputs": [],
   "source": [
    "\n",
    "\n",
    "\n"
   ]
  },
  {
   "cell_type": "markdown",
   "id": "a2a40573",
   "metadata": {},
   "source": [
    "### While Looping\n",
    "Can you print out the following list in reverse using a While loop? \n",
    "\n",
    "x = [2, 5, 5, 7, 32, 7, 1]"
   ]
  },
  {
   "cell_type": "code",
   "execution_count": null,
   "id": "71b2730c",
   "metadata": {},
   "outputs": [],
   "source": [
    "\n",
    "\n",
    "\n"
   ]
  },
  {
   "cell_type": "markdown",
   "id": "8d98ad02",
   "metadata": {},
   "source": [
    "### Looping within Loops\n",
    "Can you create a new list of every row and column coordinate pair for the game Battleship? \n",
    "\n",
    "rows: A through J\n",
    "<br>\n",
    "columns: 1 through 10"
   ]
  },
  {
   "cell_type": "code",
   "execution_count": null,
   "id": "88108b44",
   "metadata": {},
   "outputs": [],
   "source": [
    "\n",
    "\n",
    "\n"
   ]
  }
 ],
 "metadata": {
  "kernelspec": {
   "display_name": "Python 3 (ipykernel)",
   "language": "python",
   "name": "python3"
  },
  "language_info": {
   "codemirror_mode": {
    "name": "ipython",
    "version": 3
   },
   "file_extension": ".py",
   "mimetype": "text/x-python",
   "name": "python",
   "nbconvert_exporter": "python",
   "pygments_lexer": "ipython3",
   "version": "3.9.12"
  }
 },
 "nbformat": 4,
 "nbformat_minor": 5
}
