{
 "cells": [
  {
   "cell_type": "markdown",
   "id": "2d21f4c2",
   "metadata": {},
   "source": [
    "# 1. Read the Stock Data\n",
    "\n",
    "### Step 1: Create a function called ReadStockData()\n",
    "This function will read the text file of stock data and return the values as lists\n",
    "\n",
    "    - Input: file name => \"files/stock_data.txt\"\n",
    "    - output: lists of price data\n",
    "    \n",
    "### Step 2: Within the function:\n",
    "\n",
    "    - Read all lines of the file using .readlines()\n",
    "    - Be sure to skip the first line as it contains the headers\n",
    "    - Using a for loop:\n",
    "        - remove special characters\n",
    "        - split the values using split\n",
    "        - convert number values to floats\n",
    "        - save each value to its respective list\n",
    "    - return the lists to main\n",
    "    \n",
    "### Step 3: Call the function\n",
    "    - dates, opens, closes = ReadStockData(\"files/stock_data.txt\")\n",
    "    \n",
    "### Step 4: Check output\n",
    "    - print(dates[0:3]) => ['2019-08-12', '2019-08-13', '2019-08-14']\n",
    "    - print(opens[0:3]) => [46.597999572753906, 45.762001037597656, 46.242000579833984]\n",
    "    - print(closes[0:3]) => [45.801998138427734, 47.0, 43.92399978637695]"
   ]
  },
  {
   "cell_type": "code",
   "execution_count": null,
   "id": "5f9bf2bc",
   "metadata": {},
   "outputs": [],
   "source": [
    "\n",
    "\n",
    "\n"
   ]
  },
  {
   "cell_type": "markdown",
   "id": "8d23f4b8",
   "metadata": {},
   "source": [
    "# 2. Read the Number of Shares\n",
    "\n",
    "### Step 1: Create a Function Called ReadShareData()\n",
    "This function will read in the number of shares the person owns on every day the stock was trading\n",
    "\n",
    "    - Input: file name => \"files/my_shares.txt\"\n",
    "    - Output: list of shares\n",
    "    \n",
    "### Step 2: Within the function:\n",
    "    - Read all lines of the file using .readlines()\n",
    "    - Using a for loop:\n",
    "        - remove special characters\n",
    "        - split the values using split\n",
    "        - convert number of shares to integer\n",
    "        - save only the share values in a list\n",
    "    - return the list to main\n",
    "    \n",
    "### Step 3: Call the function\n",
    "    - shares = ReadShareData(\"files/my_shares.txt\")\n",
    "    \n",
    "### Step 4: Check output\n",
    "    - print(shares[0:3]) => [18, 6, 8]"
   ]
  },
  {
   "cell_type": "code",
   "execution_count": null,
   "id": "33284cb9",
   "metadata": {},
   "outputs": [],
   "source": [
    "\n",
    "\n",
    "\n"
   ]
  },
  {
   "cell_type": "markdown",
   "id": "0bfc9980",
   "metadata": {},
   "source": [
    "# 3. Calculate the Change in Price\n",
    "\n",
    "### Step 1: Create a Function Called CalcPriceChanges()\n",
    "This function will calculate the change in price between the opening and closing prices for each day\n",
    "\n",
    "    - Input: two lists (opening values and closing values)\n",
    "    - Output: list of price changes\n",
    "    \n",
    "### Step 2: Within the function:\n",
    "    - Using a for loop:\n",
    "        - subtract the closing values from the opening values\n",
    "        - save the results in a new list\n",
    "    - return the list to main\n",
    "    \n",
    "### Step 3: Call the function:\n",
    "    - changes = CalcPriceChanges(opens, closes)\n",
    "    \n",
    "### Step 4: Check output\n",
    "    - print(changes[0:3]) => [-0.7960014343261719, 1.2379989624023438, -2.3180007934570312]"
   ]
  },
  {
   "cell_type": "code",
   "execution_count": null,
   "id": "b83bb3a9",
   "metadata": {},
   "outputs": [],
   "source": [
    "\n",
    "\n",
    "\n"
   ]
  },
  {
   "cell_type": "markdown",
   "id": "885594ff",
   "metadata": {},
   "source": [
    "# 4. Calculate the Account Price Changes\n",
    "\n",
    "### Step 1: Create a Function Called CalcAccountChanges()\n",
    "This function will calculate the change in price based on the number of shares the person had\n",
    "\n",
    "    - Input: two lists (changes list and shares list)\n",
    "    - Output: list of price changes\n",
    "    \n",
    "### Step 2: Within the function:\n",
    "    - Using a for loop:\n",
    "        - multiply the number of shares by the change in price\n",
    "        - save the results in a new list\n",
    "    - return the list to main\n",
    "    \n",
    "### Step 3: Call the function\n",
    "    - diffs = CalcAccountChanges(changes, shares)\n",
    "    \n",
    "### Step 4: Check output\n",
    "    - print(diffs[0:3]) => [-14.328025817871094, 7.4279937744140625, -18.54400634765625]"
   ]
  },
  {
   "cell_type": "code",
   "execution_count": null,
   "id": "bdfcf0a1",
   "metadata": {},
   "outputs": [],
   "source": [
    "\n",
    "\n",
    "\n"
   ]
  },
  {
   "cell_type": "markdown",
   "id": "816ae682",
   "metadata": {},
   "source": [
    "# 5. Write the Account Price Changes to File\n",
    "\n",
    "### Step 1: Create a Function Called WriteAccountChanges()\n",
    "This function will write the account changes for each day to a new file\n",
    "\n",
    "    - Input: diffs list and file name => \"files/my_account.txt\")\n",
    "    - Output: None\n",
    "    \n",
    "### Step 2: Within the function:\n",
    "    - Using a for loop:\n",
    "        - write each values in the diffs list to a new file\n",
    "    \n",
    "### Step 3: Call the function:\n",
    "    - WriteAccountChanges(\"files/my_account.txt\", diffs)\n",
    "    \n",
    "### Step 4: Check the output file\n",
    "    - first three lines:\n",
    "        o -14.328025817871094\n",
    "        o 7.4279937744140625\n",
    "        o -18.54400634765625"
   ]
  },
  {
   "cell_type": "code",
   "execution_count": null,
   "id": "ac0280cb",
   "metadata": {},
   "outputs": [],
   "source": [
    "\n",
    "\n",
    "\n"
   ]
  },
  {
   "cell_type": "markdown",
   "id": "7b10be41",
   "metadata": {},
   "source": [
    "# 6. Calculate the Account Total\n",
    "\n",
    "### Step 1: Create a Function Called CalcAccountTotal()\n",
    "This function will sum up the entire account based on the stock changes\n",
    "\n",
    "    - Input: starting amount (float) and diffs (list)\n",
    "    - Output: account total (float)\n",
    "    \n",
    "### Step 2: Within the function:\n",
    "    - initialize the running sum to the starting amount\n",
    "    - Using a while loop:\n",
    "        - add each value in diffs to the running sum\n",
    "    - return the running sum to main\n",
    "    \n",
    "### Step 3: Call the function:\n",
    "    - account = CalcAccountTotal(10000, diffs)\n",
    "    \n",
    "### Step 4: Check output\n",
    "    o 5627.500946044922"
   ]
  },
  {
   "cell_type": "code",
   "execution_count": null,
   "id": "69513510",
   "metadata": {},
   "outputs": [],
   "source": [
    "\n",
    "\n",
    "\n"
   ]
  },
  {
   "cell_type": "markdown",
   "id": "10b4c70c",
   "metadata": {},
   "source": [
    "# 7. Get User Information\n",
    "\n",
    "### Step 1: Create a Function Called GetUserInfo()\n",
    "This function will ask the user for information to be added to their account\n",
    "\n",
    "    - Input: None\n",
    "    - Output: first name, last name, birthday\n",
    "    \n",
    "### Step 2: Within the function:\n",
    "    - Ask the user to input their first name\n",
    "    - Ask the user to input their last name\n",
    "    - Ask the user to input their birthday in the format yyyy-mm-dd\n",
    "    - return the first name, last name and birthday to main\n",
    "    \n",
    "### Step 3: Call the function:\n",
    "    - first, last, birthday = GetUserInfo()\n",
    "    \n",
    "### Step 4: Check output"
   ]
  },
  {
   "cell_type": "code",
   "execution_count": null,
   "id": "44a062f4",
   "metadata": {},
   "outputs": [],
   "source": [
    "\n",
    "\n",
    "\n"
   ]
  },
  {
   "cell_type": "markdown",
   "id": "64566be6",
   "metadata": {},
   "source": [
    "# 7. Create an Account\n",
    "\n",
    "### Step 1: Create a Class Called Account\n",
    "This class will store the users account information\n",
    "    \n",
    "### Step 2: Define Variables:\n",
    "    - balance = 10000\n",
    "    \n",
    "### Step 3: Define __init__:\n",
    "    - inputs: first name, last name, birthday\n",
    "    - assign the first name, last name and birthday variables \n",
    "    - assign an account number variable using the function GenAccount()\n",
    "    \n",
    "### Step 4: Define Functions:\n",
    "    - GenAccount()\n",
    "        - inputs: none\n",
    "        - outputs: 10 digit random number\n",
    "        - description: use a for loop to generate a 10 digit random number \n",
    "    - UpdateBalance()\n",
    "        - inputs: new balance (float)\n",
    "        - outputs: none\n",
    "        - description: update the balance variable with the newly inputted balance\n",
    "    - PrintAccountInfo()\n",
    "        - inputs: None\n",
    "        - output: None\n",
    "        - Description: print out the person's first name, last name, account number and balance \n",
    "    \n",
    "### Step 5: Initialize the Class\n",
    "    - user = Account(first, last, birthday)  <=  Using outputs of task 7\n",
    "    - user.UpdateBalance(account)  <=  using output of task 6\n",
    "    - user.PrintAccountInfo()"
   ]
  },
  {
   "cell_type": "code",
   "execution_count": null,
   "id": "be34237a",
   "metadata": {},
   "outputs": [],
   "source": [
    "\n",
    "\n",
    "\n"
   ]
  }
 ],
 "metadata": {
  "kernelspec": {
   "display_name": "Python 3 (ipykernel)",
   "language": "python",
   "name": "python3"
  },
  "language_info": {
   "codemirror_mode": {
    "name": "ipython",
    "version": 3
   },
   "file_extension": ".py",
   "mimetype": "text/x-python",
   "name": "python",
   "nbconvert_exporter": "python",
   "pygments_lexer": "ipython3",
   "version": "3.9.12"
  }
 },
 "nbformat": 4,
 "nbformat_minor": 5
}
