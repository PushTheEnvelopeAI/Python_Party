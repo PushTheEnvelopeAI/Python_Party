{
 "cells": [
  {
   "cell_type": "markdown",
   "id": "778f2f4e-4ba6-42bf-94a5-81fa1fe3ea64",
   "metadata": {},
   "source": [
    "# https://github.com/PushTheEnvelopeAI/Python_Party"
   ]
  },
  {
   "cell_type": "markdown",
   "id": "f3f8170f-d09a-496e-8522-5778e40d6bab",
   "metadata": {},
   "source": [
    "### Why is the statement below not printing?\n",
    "Prints out the statement \"Hello {name} your number is {number}"
   ]
  },
  {
   "cell_type": "code",
   "execution_count": null,
   "id": "0ae01ad5-283d-487d-926a-01e2128312ae",
   "metadata": {},
   "outputs": [],
   "source": [
    "name = 'Adam\"\n",
    "number = 1351\n",
    "\n",
    "print('Hello', name 'your number is ' + number)"
   ]
  },
  {
   "cell_type": "markdown",
   "id": "dcdc11d8-7366-430f-a0e0-4d715ddf4821",
   "metadata": {},
   "source": [
    "### Why is the list not printing?\n",
    "Prints out the list one item at a time"
   ]
  },
  {
   "cell_type": "code",
   "execution_count": null,
   "id": "4a7e66d3-e466-433f-956a-a3baf94e40bf",
   "metadata": {},
   "outputs": [],
   "source": [
    "myList = [1, 2, 3, 4, 6, 5, 3]\n",
    "\n",
    "for x in range(len(myList)):\n",
    "print(myList[x])"
   ]
  },
  {
   "cell_type": "markdown",
   "id": "7144d3d2-9c4d-4eaa-9d82-5b27b32b082e",
   "metadata": {},
   "source": [
    "### Why is the IF statement wrong?\n",
    "Prints out the category of the number"
   ]
  },
  {
   "cell_type": "code",
   "execution_count": null,
   "id": "9055d77b-d7c8-494a-a352-9eb880d982da",
   "metadata": {},
   "outputs": [],
   "source": [
    "x = 1\n",
    "\n",
    "if x >= 0 and x <= 5:\n",
    "    message = 'x between 0 and 5'\n",
    "if x >= 0 and x <= 10:\n",
    "    message = 'x between 5 and 10'\n",
    "if x < 0 and x > 10:\n",
    "    message = 'x less than 0 or greater than 10'\n",
    "    \n",
    "print(message)"
   ]
  },
  {
   "cell_type": "markdown",
   "id": "562f09d0-e0eb-4bf8-9b32-85a51a6a21d1",
   "metadata": {},
   "source": [
    "### Why can't a new list be created? \n",
    "Adds values * 2 to a new list"
   ]
  },
  {
   "cell_type": "code",
   "execution_count": null,
   "id": "dd6f9c3d-e93e-4e4e-9d79-e3de8d376a62",
   "metadata": {},
   "outputs": [],
   "source": [
    "myList = [1, 2, 3, 4, 6, 5, 3]\n",
    "newList = ()\n",
    "\n",
    "for item in myList:\n",
    "    newList.append(item * 2)\n",
    "    \n",
    "print(newList)"
   ]
  },
  {
   "cell_type": "markdown",
   "id": "a68c029b-35a3-451a-87ea-296dc86e9fe8",
   "metadata": {},
   "source": [
    "### Why isn't the result printing?\n",
    "Prints item + 1 for each item in the list"
   ]
  },
  {
   "cell_type": "code",
   "execution_count": null,
   "id": "f533c572-456b-4d09-bfbd-9e347c7e29c4",
   "metadata": {},
   "outputs": [],
   "source": [
    "numbers = [1, 2, 3, 4, 5, 6, 7, 8, 9]\n",
    "\n",
    "for x in range(numbers):\n",
    "    print(numbers + 1)"
   ]
  },
  {
   "cell_type": "markdown",
   "id": "c981f23b-e0f3-4ce6-a02f-094e6015113f",
   "metadata": {},
   "source": [
    "### Why is the new list not printing?\n",
    "Appends product to list and print items one by one from final list"
   ]
  },
  {
   "cell_type": "code",
   "execution_count": null,
   "id": "6db9928d-9909-4eff-aba6-4a5e91ec0bbf",
   "metadata": {},
   "outputs": [],
   "source": [
    "a = [1, 5, 8, 3, 7, 9, 3]\n",
    "b = [4, 8, 7, 2, 9, 1, 1]\n",
    "x = []\n",
    "\n",
    "for x in range(len(a)):\n",
    "    x.append(a[x]*b[x])\n",
    "    \n",
    "for x in range(len(x)):\n",
    "    print(x[x])"
   ]
  },
  {
   "cell_type": "markdown",
   "id": "fbd996f2-ed70-468c-bbdc-d40ee758d429",
   "metadata": {},
   "source": [
    "### Why is the While Loop failing? \n",
    "Prints the list in reverse order"
   ]
  },
  {
   "cell_type": "code",
   "execution_count": null,
   "id": "66d90f11-7f36-4df5-b379-0ab565234e9d",
   "metadata": {},
   "outputs": [],
   "source": [
    "myList = [1, 2, 3, 4, 5, 6, 7, 8]\n",
    "\n",
    "i = len(myList) - 1\n",
    "while i >= 0:\n",
    "    print(myList[i])\n",
    "    i += 1"
   ]
  },
  {
   "cell_type": "markdown",
   "id": "72d1e382-b691-486b-b5d7-d09f85c29db4",
   "metadata": {},
   "source": [
    "### What's wrong with the class?\n",
    "Class to store the students name and grade"
   ]
  },
  {
   "cell_type": "code",
   "execution_count": null,
   "id": "1557adc6-587d-4460-b01b-b842317f975c",
   "metadata": {},
   "outputs": [],
   "source": [
    "class Student(name, grade):\n",
    "    \n",
    "    def __init__():\n",
    "        name = name\n",
    "        grade = grade\n",
    "        \n",
    "student = Student(\"Ben Parker\", 97\n",
    "print(student.name, student.grade)"
   ]
  }
 ],
 "metadata": {
  "kernelspec": {
   "display_name": "Python 3 (ipykernel)",
   "language": "python",
   "name": "python3"
  },
  "language_info": {
   "codemirror_mode": {
    "name": "ipython",
    "version": 3
   },
   "file_extension": ".py",
   "mimetype": "text/x-python",
   "name": "python",
   "nbconvert_exporter": "python",
   "pygments_lexer": "ipython3",
   "version": "3.9.12"
  }
 },
 "nbformat": 4,
 "nbformat_minor": 5
}
